{
  "nbformat": 4,
  "nbformat_minor": 0,
  "metadata": {
    "kernelspec": {
      "display_name": "Python 3",
      "language": "python",
      "name": "python3"
    },
    "language_info": {
      "codemirror_mode": {
        "name": "ipython",
        "version": 3
      },
      "file_extension": ".py",
      "mimetype": "text/x-python",
      "name": "python",
      "nbconvert_exporter": "python",
      "pygments_lexer": "ipython3",
      "version": "3.7.4"
    },
    "colab": {
      "name": "Python Basics.ipynb",
      "provenance": [],
      "collapsed_sections": [],
      "toc_visible": true,
      "include_colab_link": true
    }
  },
  "cells": [
    {
      "cell_type": "markdown",
      "metadata": {
        "id": "view-in-github",
        "colab_type": "text"
      },
      "source": [
        "<a href=\"https://colab.research.google.com/github/JaredRentz/DataScienceTraining/blob/master/Python_Basics%201.ipynb\" target=\"_parent\"><img src=\"https://colab.research.google.com/assets/colab-badge.svg\" alt=\"Open In Colab\"/></a>"
      ]
    },
    {
      "cell_type": "markdown",
      "metadata": {
        "id": "eYHbLoJTtaSd",
        "colab_type": "text"
      },
      "source": [
        "## List - The easiest thing to understand in Python"
      ]
    },
    {
      "cell_type": "code",
      "metadata": {
        "id": "0DNjZ3BAtaSf",
        "colab_type": "code",
        "colab": {}
      },
      "source": [
        "colors = ['Red','Orange','blue','Green','Red','Yellow']"
      ],
      "execution_count": 0,
      "outputs": []
    },
    {
      "cell_type": "code",
      "metadata": {
        "id": "5WXuCTiotaSj",
        "colab_type": "code",
        "outputId": "eef777e8-50a3-433a-a054-480dafbe8753",
        "colab": {
          "base_uri": "https://localhost:8080/",
          "height": 34
        }
      },
      "source": [
        "# How to view a stored variable\n",
        "colors"
      ],
      "execution_count": 0,
      "outputs": [
        {
          "output_type": "execute_result",
          "data": {
            "text/plain": [
              "['Red', 'Orange', 'blue', 'Green', 'Red', 'Yellow']"
            ]
          },
          "metadata": {
            "tags": []
          },
          "execution_count": 136
        }
      ]
    },
    {
      "cell_type": "code",
      "metadata": {
        "id": "fBoeGYb2taSn",
        "colab_type": "code",
        "outputId": "2f825e9b-a8c8-49dc-c5f6-184592d452df",
        "colab": {
          "base_uri": "https://localhost:8080/",
          "height": 34
        }
      },
      "source": [
        "# How many items are in the list?\n",
        "len(colors)"
      ],
      "execution_count": 0,
      "outputs": [
        {
          "output_type": "execute_result",
          "data": {
            "text/plain": [
              "6"
            ]
          },
          "metadata": {
            "tags": []
          },
          "execution_count": 137
        }
      ]
    },
    {
      "cell_type": "code",
      "metadata": {
        "id": "-IvrWdd3zpAF",
        "colab_type": "code",
        "outputId": "f5e02aa8-b92d-403e-b235-186d30898a5b",
        "colab": {
          "base_uri": "https://localhost:8080/",
          "height": 34
        }
      },
      "source": [
        "# Count number of occurances\n",
        "print(f'Red appears: {colors.count(\"Red\")}')"
      ],
      "execution_count": 0,
      "outputs": [
        {
          "output_type": "stream",
          "text": [
            "Red appears: 2\n"
          ],
          "name": "stdout"
        }
      ]
    },
    {
      "cell_type": "code",
      "metadata": {
        "id": "nQ2d_5q9taSp",
        "colab_type": "code",
        "outputId": "640a8e66-2160-4033-d9e5-53610b4f898e",
        "colab": {
          "base_uri": "https://localhost:8080/",
          "height": 68
        }
      },
      "source": [
        "# Add an item \"Purple\" to the list\n",
        "colors.append('Purple')\n",
        "print(colors)\n",
        "print(f'\\n There are {len(colors)} colors in this list.')"
      ],
      "execution_count": 0,
      "outputs": [
        {
          "output_type": "stream",
          "text": [
            "['Red', 'Orange', 'blue', 'Green', 'Red', 'Yellow', 'Purple']\n",
            "\n",
            " There are 7 colors in this list.\n"
          ],
          "name": "stdout"
        }
      ]
    },
    {
      "cell_type": "code",
      "metadata": {
        "id": "AXhfGZv2taSs",
        "colab_type": "code",
        "outputId": "042c2516-d4c6-4377-c240-d6a8a9c444b5",
        "colab": {
          "base_uri": "https://localhost:8080/",
          "height": 34
        }
      },
      "source": [
        "# What if you do not know its a list?\n",
        "type(colors)"
      ],
      "execution_count": 0,
      "outputs": [
        {
          "output_type": "execute_result",
          "data": {
            "text/plain": [
              "list"
            ]
          },
          "metadata": {
            "tags": []
          },
          "execution_count": 140
        }
      ]
    },
    {
      "cell_type": "code",
      "metadata": {
        "id": "nbzI4n8QtaSu",
        "colab_type": "code",
        "outputId": "92122299-d0be-4a41-dcb5-8574377b3621",
        "colab": {
          "base_uri": "https://localhost:8080/",
          "height": 34
        }
      },
      "source": [
        "colors.remove('Green')\n",
        "colors"
      ],
      "execution_count": 0,
      "outputs": [
        {
          "output_type": "execute_result",
          "data": {
            "text/plain": [
              "['Red', 'Orange', 'blue', 'Red', 'Yellow', 'Purple']"
            ]
          },
          "metadata": {
            "tags": []
          },
          "execution_count": 141
        }
      ]
    },
    {
      "cell_type": "markdown",
      "metadata": {
        "id": "2hq3DqWptaSx",
        "colab_type": "text"
      },
      "source": [
        "## List Slicing - Very Important\n",
        "Take notice that when you request only 1 result, the data type changes from list to string."
      ]
    },
    {
      "cell_type": "code",
      "metadata": {
        "id": "DWWdm3rBtaSy",
        "colab_type": "code",
        "outputId": "1aaf146e-c50a-4aaa-a9dd-c3b65abee8ad",
        "colab": {
          "base_uri": "https://localhost:8080/",
          "height": 34
        }
      },
      "source": [
        "# The first 3 elements in the array\n",
        "colors[:3]"
      ],
      "execution_count": 0,
      "outputs": [
        {
          "output_type": "execute_result",
          "data": {
            "text/plain": [
              "['Red', 'Orange', 'blue']"
            ]
          },
          "metadata": {
            "tags": []
          },
          "execution_count": 142
        }
      ]
    },
    {
      "cell_type": "code",
      "metadata": {
        "id": "8eS2sL7ataS0",
        "colab_type": "code",
        "outputId": "4e990361-c442-4155-b9e5-2251da64262b",
        "colab": {
          "base_uri": "https://localhost:8080/",
          "height": 34
        }
      },
      "source": [
        "#Starting at the 3rd Element give me the rest\n",
        "colors[3:]"
      ],
      "execution_count": 0,
      "outputs": [
        {
          "output_type": "execute_result",
          "data": {
            "text/plain": [
              "['Red', 'Yellow', 'Purple']"
            ]
          },
          "metadata": {
            "tags": []
          },
          "execution_count": 143
        }
      ]
    },
    {
      "cell_type": "code",
      "metadata": {
        "id": "Vtuu4-BLtaS2",
        "colab_type": "code",
        "outputId": "1515e44c-7f3c-4e18-8ca6-c62c38790995",
        "colab": {
          "base_uri": "https://localhost:8080/",
          "height": 34
        }
      },
      "source": [
        "#What is the first element in the array?\n",
        "colors[1]"
      ],
      "execution_count": 0,
      "outputs": [
        {
          "output_type": "execute_result",
          "data": {
            "text/plain": [
              "'Orange'"
            ]
          },
          "metadata": {
            "tags": []
          },
          "execution_count": 144
        }
      ]
    },
    {
      "cell_type": "code",
      "metadata": {
        "id": "er1W_wOMtaS5",
        "colab_type": "code",
        "outputId": "839efc87-c80c-4d49-82e9-d9de6907d7be",
        "colab": {
          "base_uri": "https://localhost:8080/",
          "height": 34
        }
      },
      "source": [
        "# Slice the middle of the array\n",
        "colors[2:4]"
      ],
      "execution_count": 0,
      "outputs": [
        {
          "output_type": "execute_result",
          "data": {
            "text/plain": [
              "['blue', 'Red']"
            ]
          },
          "metadata": {
            "tags": []
          },
          "execution_count": 145
        }
      ]
    },
    {
      "cell_type": "code",
      "metadata": {
        "id": "hpRy0VuAtaS8",
        "colab_type": "code",
        "outputId": "882a1a36-89b9-42b2-8849-deac301ca92d",
        "colab": {
          "base_uri": "https://localhost:8080/",
          "height": 34
        }
      },
      "source": [
        "# Get the very last item in the array\n",
        "colors[-1]"
      ],
      "execution_count": 0,
      "outputs": [
        {
          "output_type": "execute_result",
          "data": {
            "text/plain": [
              "'Purple'"
            ]
          },
          "metadata": {
            "tags": []
          },
          "execution_count": 146
        }
      ]
    },
    {
      "cell_type": "markdown",
      "metadata": {
        "id": "gHjfXm6ttfVP",
        "colab_type": "text"
      },
      "source": [
        "## List Comprehension"
      ]
    },
    {
      "cell_type": "code",
      "metadata": {
        "id": "DohbzgKVtjhI",
        "colab_type": "code",
        "outputId": "3ce01ca2-4824-4232-b041-e5ce67904313",
        "colab": {
          "base_uri": "https://localhost:8080/",
          "height": 102
        }
      },
      "source": [
        "# range allows you to interate numbers 0 to 4.\n",
        "# The goal is to square each number (0,1,2,3,4)\n",
        "for i in range(0,5):\n",
        "  print(i**2)"
      ],
      "execution_count": 0,
      "outputs": [
        {
          "output_type": "stream",
          "text": [
            "0\n",
            "1\n",
            "4\n",
            "9\n",
            "16\n"
          ],
          "name": "stdout"
        }
      ]
    },
    {
      "cell_type": "code",
      "metadata": {
        "id": "t71ves-EuUSa",
        "colab_type": "code",
        "colab": {}
      },
      "source": [
        "# Using list comprehension you can perform the same code in 1 line\n",
        "new_list = [i**2 for i in range(0,5)]"
      ],
      "execution_count": 0,
      "outputs": []
    },
    {
      "cell_type": "code",
      "metadata": {
        "id": "1PGiqhzDu_Zr",
        "colab_type": "code",
        "colab": {}
      },
      "source": [
        "# Find the color Orange in the colors list\n",
        "new_color_list = [x for x in colors if x == 'Orange']"
      ],
      "execution_count": 0,
      "outputs": []
    },
    {
      "cell_type": "code",
      "metadata": {
        "id": "5-C_ZX_nvcPx",
        "colab_type": "code",
        "outputId": "3de12616-e0b3-4283-89b7-9a27597af7e4",
        "colab": {
          "base_uri": "https://localhost:8080/",
          "height": 34
        }
      },
      "source": [
        "# We have \"blue in our list but Python is case sensitive\"\n",
        "[x for x in colors if x == 'Blue']"
      ],
      "execution_count": 0,
      "outputs": [
        {
          "output_type": "execute_result",
          "data": {
            "text/plain": [
              "[]"
            ]
          },
          "metadata": {
            "tags": []
          },
          "execution_count": 150
        }
      ]
    },
    {
      "cell_type": "code",
      "metadata": {
        "id": "WVIR7I6FwYTx",
        "colab_type": "code",
        "outputId": "7cfaa4b9-30f5-444b-b589-7763262a8b8e",
        "colab": {
          "base_uri": "https://localhost:8080/",
          "height": 34
        }
      },
      "source": [
        "# We have \"blue in our list but Python is case sensitive\"\n",
        "# Condition Statements are checked before the last variable is returned\n",
        "[x for x in colors if x.lower() == 'orange']"
      ],
      "execution_count": 0,
      "outputs": [
        {
          "output_type": "execute_result",
          "data": {
            "text/plain": [
              "['Orange']"
            ]
          },
          "metadata": {
            "tags": []
          },
          "execution_count": 151
        }
      ]
    },
    {
      "cell_type": "code",
      "metadata": {
        "id": "Fo-IKaYDwjKb",
        "colab_type": "code",
        "outputId": "071278c6-77f0-495c-8063-cb48051230c0",
        "colab": {
          "base_uri": "https://localhost:8080/",
          "height": 119
        }
      },
      "source": [
        "# The \"x\" to the left is what is returned\n",
        "# + is used for concatenation in Python\n",
        "added_colors = [x +' added' for x in colors ]\n",
        "added_colors"
      ],
      "execution_count": 0,
      "outputs": [
        {
          "output_type": "execute_result",
          "data": {
            "text/plain": [
              "['Red added',\n",
              " 'Orange added',\n",
              " 'blue added',\n",
              " 'Red added',\n",
              " 'Yellow added',\n",
              " 'Purple added']"
            ]
          },
          "metadata": {
            "tags": []
          },
          "execution_count": 152
        }
      ]
    },
    {
      "cell_type": "code",
      "metadata": {
        "id": "k2oBHaNs1M7k",
        "colab_type": "code",
        "outputId": "b5806c7c-42c4-4167-a9b2-94e81feb7b11",
        "colab": {
          "base_uri": "https://localhost:8080/",
          "height": 136
        }
      },
      "source": [
        "# Combines 2 list - Lets say you have a person and their favorite color in seperate list.\n",
        "\n",
        "name = ['John','Kim','Peter','Mary','Chris','Linda','John']\n",
        "colors = ['Red','Orange','blue','Green','Red','Yellow',1]\n",
        "list(zip(name,colors))"
      ],
      "execution_count": 0,
      "outputs": [
        {
          "output_type": "execute_result",
          "data": {
            "text/plain": [
              "[('John', 'Red'),\n",
              " ('Kim', 'Orange'),\n",
              " ('Peter', 'blue'),\n",
              " ('Mary', 'Green'),\n",
              " ('Chris', 'Red'),\n",
              " ('Linda', 'Yellow'),\n",
              " ('John', 1)]"
            ]
          },
          "metadata": {
            "tags": []
          },
          "execution_count": 169
        }
      ]
    },
    {
      "cell_type": "markdown",
      "metadata": {
        "id": "9CuptnHl0_fw",
        "colab_type": "text"
      },
      "source": [
        "# Dictionary\n",
        "Key Value Pairs - (k,v) <- iterable"
      ]
    },
    {
      "cell_type": "code",
      "metadata": {
        "id": "DGgEsZ0DyHpj",
        "colab_type": "code",
        "outputId": "7bce5c4c-70e8-4be1-c9fb-141246daeac4",
        "colab": {
          "base_uri": "https://localhost:8080/",
          "height": 34
        }
      },
      "source": [
        "newdict = {\n",
        "  \"brand\": \"Ford\",\n",
        "  \"model\": \"Mustang\",\n",
        "  \"year\": 1964\n",
        "}\n",
        "newdict"
      ],
      "execution_count": 0,
      "outputs": [
        {
          "output_type": "execute_result",
          "data": {
            "text/plain": [
              "{'brand': 'Ford', 'model': 'Mustang', 'year': 1964}"
            ]
          },
          "metadata": {
            "tags": []
          },
          "execution_count": 154
        }
      ]
    },
    {
      "cell_type": "markdown",
      "metadata": {
        "id": "8vAz0vJv2ive",
        "colab_type": "text"
      },
      "source": [
        "We have a dictionary that contains a Brand, Model and Year of a 64' Ford Mustang"
      ]
    },
    {
      "cell_type": "code",
      "metadata": {
        "id": "zpRytrGA2hE4",
        "colab_type": "code",
        "outputId": "322136d8-3262-439a-f3ab-96466e6a12fd",
        "colab": {
          "base_uri": "https://localhost:8080/",
          "height": 34
        }
      },
      "source": [
        "# To get the brand of the car\n",
        "newdict['brand']"
      ],
      "execution_count": 0,
      "outputs": [
        {
          "output_type": "execute_result",
          "data": {
            "text/plain": [
              "'Ford'"
            ]
          },
          "metadata": {
            "tags": []
          },
          "execution_count": 155
        }
      ]
    },
    {
      "cell_type": "code",
      "metadata": {
        "id": "MlBdXvTk2-cJ",
        "colab_type": "code",
        "outputId": "85d5eba3-4532-4cb6-ef56-222e867a7d70",
        "colab": {
          "base_uri": "https://localhost:8080/",
          "height": 68
        }
      },
      "source": [
        "# What if you want to see all the keys in a dictionary / json file\n",
        "for k,v in newdict.items():\n",
        "  print(k)"
      ],
      "execution_count": 0,
      "outputs": [
        {
          "output_type": "stream",
          "text": [
            "brand\n",
            "model\n",
            "year\n"
          ],
          "name": "stdout"
        }
      ]
    },
    {
      "cell_type": "code",
      "metadata": {
        "id": "9P6L55a55jxR",
        "colab_type": "code",
        "outputId": "a04a7485-38e5-47bf-a92f-0486350ea6ee",
        "colab": {
          "base_uri": "https://localhost:8080/",
          "height": 34
        }
      },
      "source": [
        "for k,v in newdict.items():\n",
        "  if k == 'model':\n",
        "    print(v)"
      ],
      "execution_count": 0,
      "outputs": [
        {
          "output_type": "stream",
          "text": [
            "Mustang\n"
          ],
          "name": "stdout"
        }
      ]
    },
    {
      "cell_type": "code",
      "metadata": {
        "id": "1PbFPO0j3ENZ",
        "colab_type": "code",
        "outputId": "8527ea28-929d-47f2-e130-a06fb62ea64c",
        "colab": {
          "base_uri": "https://localhost:8080/",
          "height": 34
        }
      },
      "source": [
        "# Change the model of the car\n",
        "newdict['model'] = 'F150'\n",
        "newdict"
      ],
      "execution_count": 0,
      "outputs": [
        {
          "output_type": "execute_result",
          "data": {
            "text/plain": [
              "{'brand': 'Ford', 'model': 'F150', 'year': 1964}"
            ]
          },
          "metadata": {
            "tags": []
          },
          "execution_count": 158
        }
      ]
    },
    {
      "cell_type": "code",
      "metadata": {
        "id": "9LdwGxM73uqL",
        "colab_type": "code",
        "outputId": "9f0c2004-c443-4db3-bc36-cf826647f8c2",
        "colab": {
          "base_uri": "https://localhost:8080/",
          "height": 34
        }
      },
      "source": [
        "#Print all the values in a dictionary using dictionary comprehension\n",
        "{x for x in newdict.values()}"
      ],
      "execution_count": 0,
      "outputs": [
        {
          "output_type": "execute_result",
          "data": {
            "text/plain": [
              "{1964, 'F150', 'Ford'}"
            ]
          },
          "metadata": {
            "tags": []
          },
          "execution_count": 159
        }
      ]
    },
    {
      "cell_type": "code",
      "metadata": {
        "id": "H5UdWuXw39og",
        "colab_type": "code",
        "outputId": "a8259546-1ccc-43d5-afdf-ed0cfb58fad9",
        "colab": {
          "base_uri": "https://localhost:8080/",
          "height": 34
        }
      },
      "source": [
        "#Print all the keys in a dictionary using dictionary comprehension\n",
        "{x for x in newdict.keys()}"
      ],
      "execution_count": 0,
      "outputs": [
        {
          "output_type": "execute_result",
          "data": {
            "text/plain": [
              "{'brand', 'model', 'year'}"
            ]
          },
          "metadata": {
            "tags": []
          },
          "execution_count": 160
        }
      ]
    },
    {
      "cell_type": "code",
      "metadata": {
        "id": "3e_h0gAU5PsP",
        "colab_type": "code",
        "outputId": "7ea8894a-617e-4327-9b1b-5ad86f72195d",
        "colab": {
          "base_uri": "https://localhost:8080/",
          "height": 68
        }
      },
      "source": [
        "phone_history = {}\n",
        "\n",
        "phone_history['James'] = {'phone1':'iphone 6s','phone2':'Windows Phone','phone3': 'iphone 11 pro'}\n",
        "phone_history"
      ],
      "execution_count": 0,
      "outputs": [
        {
          "output_type": "execute_result",
          "data": {
            "text/plain": [
              "{'James': {'phone1': 'iphone 6s',\n",
              "  'phone2': 'Windows Phone',\n",
              "  'phone3': 'iphone 11 pro'}}"
            ]
          },
          "metadata": {
            "tags": []
          },
          "execution_count": 161
        }
      ]
    },
    {
      "cell_type": "code",
      "metadata": {
        "id": "B3sDOuwQ67JW",
        "colab_type": "code",
        "outputId": "8539b863-2886-419f-d4bf-380bc6a012f8",
        "colab": {
          "base_uri": "https://localhost:8080/",
          "height": 85
        }
      },
      "source": [
        "phone_history['Polly'] = {'phone1':'Motorola Razr'}\n",
        "phone_history"
      ],
      "execution_count": 0,
      "outputs": [
        {
          "output_type": "execute_result",
          "data": {
            "text/plain": [
              "{'James': {'phone1': 'iphone 6s',\n",
              "  'phone2': 'Windows Phone',\n",
              "  'phone3': 'iphone 11 pro'},\n",
              " 'Polly': {'phone1': 'Motorola Razr'}}"
            ]
          },
          "metadata": {
            "tags": []
          },
          "execution_count": 162
        }
      ]
    },
    {
      "cell_type": "code",
      "metadata": {
        "id": "BBffMQsJBUqk",
        "colab_type": "code",
        "outputId": "a9765d9c-09dc-4789-f163-8fd9868f70e3",
        "colab": {
          "base_uri": "https://localhost:8080/",
          "height": 85
        }
      },
      "source": [
        "phone_history['Polly'].update({'phone2':'iphone XR'})\n",
        "phone_history"
      ],
      "execution_count": 0,
      "outputs": [
        {
          "output_type": "execute_result",
          "data": {
            "text/plain": [
              "{'James': {'phone1': 'iphone 6s',\n",
              "  'phone2': 'Windows Phone',\n",
              "  'phone3': 'iphone 11 pro'},\n",
              " 'Polly': {'phone1': 'Motorola Razr', 'phone2': 'iphone XR'}}"
            ]
          },
          "metadata": {
            "tags": []
          },
          "execution_count": 163
        }
      ]
    },
    {
      "cell_type": "markdown",
      "metadata": {
        "id": "33R6Fg1g7z7K",
        "colab_type": "text"
      },
      "source": [
        "## We now have 2 users in our dictionary. How many iPhones have our uses had total?"
      ]
    },
    {
      "cell_type": "code",
      "metadata": {
        "id": "ub_xypUZ7mTV",
        "colab_type": "code",
        "outputId": "6e5cc5d4-f956-4f3d-93b2-8a59d38bbd58",
        "colab": {
          "base_uri": "https://localhost:8080/",
          "height": 34
        }
      },
      "source": [
        "# How many iphones have our users had?\n",
        "iphoneCount = 0\n",
        "\n",
        "for name,oldphones in phone_history.items():\n",
        "  for i in range(1,len(oldphones)+1):\n",
        "    customer_phones = oldphones['phone'+str(i)]\n",
        "    if customer_phones.startswith('iphone'):\n",
        "      iphoneCount+=1\n",
        "print(f'Number of iPhones: {iphoneCount}')\n",
        "    "
      ],
      "execution_count": 0,
      "outputs": [
        {
          "output_type": "stream",
          "text": [
            "Number of iPhones: 3\n"
          ],
          "name": "stdout"
        }
      ]
    },
    {
      "cell_type": "code",
      "metadata": {
        "id": "2rk2IYq0CrDb",
        "colab_type": "code",
        "outputId": "5de433bc-7346-400d-d6cd-4c2ff4c55678",
        "colab": {
          "base_uri": "https://localhost:8080/",
          "height": 34
        }
      },
      "source": [
        " iphoneCount2 = sum([ len([i for i in list([oldphones for name,oldphones in phone_history.items()][s].values()) if i.startswith('iphone')]) for s in range(0,len(phone_history))]) \n",
        " print(f'Number of iPhones: {iphoneCount2}')"
      ],
      "execution_count": 0,
      "outputs": [
        {
          "output_type": "stream",
          "text": [
            "Number of iPhones: 3\n"
          ],
          "name": "stdout"
        }
      ]
    },
    {
      "cell_type": "code",
      "metadata": {
        "id": "WYXiu4zhaNtl",
        "colab_type": "code",
        "colab": {}
      },
      "source": [
        ""
      ],
      "execution_count": 0,
      "outputs": []
    }
  ]
}