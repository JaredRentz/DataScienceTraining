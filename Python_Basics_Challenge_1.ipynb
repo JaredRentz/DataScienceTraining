{
  "nbformat": 4,
  "nbformat_minor": 0,
  "metadata": {
    "colab": {
      "name": "Python Basics Challenge 1.ipynb",
      "provenance": [],
      "collapsed_sections": [],
      "toc_visible": true,
      "include_colab_link": true
    },
    "kernelspec": {
      "name": "python3",
      "display_name": "Python 3"
    }
  },
  "cells": [
    {
      "cell_type": "markdown",
      "metadata": {
        "id": "view-in-github",
        "colab_type": "text"
      },
      "source": [
        "<a href=\"https://colab.research.google.com/github/JaredRentz/DataScienceTraining/blob/master/Python_Basics_Challenge_1.ipynb\" target=\"_parent\"><img src=\"https://colab.research.google.com/assets/colab-badge.svg\" alt=\"Open In Colab\"/></a>"
      ]
    },
    {
      "cell_type": "code",
      "metadata": {
        "id": "Oy1a9tM-iIkR",
        "colab_type": "code",
        "colab": {}
      },
      "source": [
        "#Series and DataFrame\n",
        "import pandas as pd\n",
        "\n",
        "#Vector & Matrix Computations\n",
        "import numpy as np\n",
        "\n",
        "# Ploting package for different array types\n",
        "import matplotlib.pyplot as plt"
      ],
      "execution_count": 0,
      "outputs": []
    },
    {
      "cell_type": "markdown",
      "metadata": {
        "id": "FqPG-vzliO1o",
        "colab_type": "text"
      },
      "source": [
        "Those packages will be standard across all projects when it comes to Machine Learning or Data Science.\n",
        "* If you do not have these libraries installed you use the \"pip install package-name command ."
      ]
    },
    {
      "cell_type": "markdown",
      "metadata": {
        "id": "dC9BEimXgN_P",
        "colab_type": "text"
      },
      "source": [
        "# Numpy in the background"
      ]
    },
    {
      "cell_type": "code",
      "metadata": {
        "id": "NEtQ35nbccM0",
        "colab_type": "code",
        "colab": {
          "base_uri": "https://localhost:8080/",
          "height": 34
        },
        "outputId": "e99fd133-3b53-4ced-ca88-0f712df9bb95"
      },
      "source": [
        "np.arange(4)"
      ],
      "execution_count": 5,
      "outputs": [
        {
          "output_type": "execute_result",
          "data": {
            "text/plain": [
              "array([0, 1, 2, 3])"
            ]
          },
          "metadata": {
            "tags": []
          },
          "execution_count": 5
        }
      ]
    },
    {
      "cell_type": "code",
      "metadata": {
        "id": "-6wRfYsochxt",
        "colab_type": "code",
        "colab": {
          "base_uri": "https://localhost:8080/",
          "height": 68
        },
        "outputId": "863c0f9d-1edb-4cf5-85fe-deabce1747f2"
      },
      "source": [
        "# Numpy runs in rows , columns\n",
        "np.arange(2,14,2).reshape(3,2)"
      ],
      "execution_count": 8,
      "outputs": [
        {
          "output_type": "execute_result",
          "data": {
            "text/plain": [
              "array([[ 2,  4],\n",
              "       [ 6,  8],\n",
              "       [10, 12]])"
            ]
          },
          "metadata": {
            "tags": []
          },
          "execution_count": 8
        }
      ]
    },
    {
      "cell_type": "code",
      "metadata": {
        "id": "O0So2--Xc53B",
        "colab_type": "code",
        "colab": {
          "base_uri": "https://localhost:8080/",
          "height": 34
        },
        "outputId": "777542a7-a23b-4e22-f3bd-44b13374a740"
      },
      "source": [
        "# Sinle list can be in array format.\n",
        "numbers = [0,1,2,3]\n",
        "np.array(numbers)"
      ],
      "execution_count": 18,
      "outputs": [
        {
          "output_type": "execute_result",
          "data": {
            "text/plain": [
              "array([0, 1, 2, 3])"
            ]
          },
          "metadata": {
            "tags": []
          },
          "execution_count": 18
        }
      ]
    },
    {
      "cell_type": "code",
      "metadata": {
        "id": "lQ6PpNlCdseA",
        "colab_type": "code",
        "colab": {
          "base_uri": "https://localhost:8080/",
          "height": 51
        },
        "outputId": "4b2ae790-6929-4309-ac1c-538dcd1ec43c"
      },
      "source": [
        "# Multi Dimensional Arrays will be an array of a tuple.\n",
        "numbers = [(0,1,2),(4,5,6)]\n",
        "np.array(numbers)"
      ],
      "execution_count": 33,
      "outputs": [
        {
          "output_type": "execute_result",
          "data": {
            "text/plain": [
              "array([[0, 1, 2],\n",
              "       [4, 5, 6]])"
            ]
          },
          "metadata": {
            "tags": []
          },
          "execution_count": 33
        }
      ]
    },
    {
      "cell_type": "code",
      "metadata": {
        "id": "-yyWNKT2egtS",
        "colab_type": "code",
        "colab": {
          "base_uri": "https://localhost:8080/",
          "height": 51
        },
        "outputId": "c61a2b16-370e-4130-9b48-4e88c76a582f"
      },
      "source": [
        "numbers_2 = [(0,1,6),(4,5,2)]\n",
        "np.array(numbers_2)"
      ],
      "execution_count": 34,
      "outputs": [
        {
          "output_type": "execute_result",
          "data": {
            "text/plain": [
              "array([[0, 1, 6],\n",
              "       [4, 5, 2]])"
            ]
          },
          "metadata": {
            "tags": []
          },
          "execution_count": 34
        }
      ]
    },
    {
      "cell_type": "code",
      "metadata": {
        "id": "MSqPNTPtepJR",
        "colab_type": "code",
        "colab": {
          "base_uri": "https://localhost:8080/",
          "height": 51
        },
        "outputId": "e714e172-3acc-4623-829d-edb1250f5112"
      },
      "source": [
        "a = np.array(numbers)\n",
        "b = np.array(numbers_2)\n",
        "a*b"
      ],
      "execution_count": 37,
      "outputs": [
        {
          "output_type": "execute_result",
          "data": {
            "text/plain": [
              "array([[ 0,  1, 12],\n",
              "       [16, 25, 12]])"
            ]
          },
          "metadata": {
            "tags": []
          },
          "execution_count": 37
        }
      ]
    },
    {
      "cell_type": "markdown",
      "metadata": {
        "id": "Cv0GPrDvgVnU",
        "colab_type": "text"
      },
      "source": [
        "# Pandas on the outside"
      ]
    },
    {
      "cell_type": "code",
      "metadata": {
        "id": "8cVwzcRl5fLv",
        "colab_type": "code",
        "outputId": "1fec09a3-3374-4694-b5c6-0ee781e22142",
        "colab": {
          "base_uri": "https://localhost:8080/",
          "height": 34
        }
      },
      "source": [
        "# A 2 Dimensional List\n",
        "patient_data = [['James','Inpatient',32,'K56.609'],['Angela','Inpatient',22,'A16.69']]\n",
        "patient_data"
      ],
      "execution_count": 41,
      "outputs": [
        {
          "output_type": "execute_result",
          "data": {
            "text/plain": [
              "[['James', 'Inpatient', 32, 'K56.609'], ['Angela', 'Inpatient', 22, 'A16.69']]"
            ]
          },
          "metadata": {
            "tags": []
          },
          "execution_count": 41
        }
      ]
    },
    {
      "cell_type": "code",
      "metadata": {
        "id": "Bgp-tkuw6LjS",
        "colab_type": "code",
        "outputId": "79f2ae7e-b3dc-48df-88ea-243ebaaba10c",
        "colab": {
          "base_uri": "https://localhost:8080/",
          "height": 68
        }
      },
      "source": [
        "# Series are {Column, Index}\n",
        "series = pd.Series(patient_data)\n",
        "series"
      ],
      "execution_count": 42,
      "outputs": [
        {
          "output_type": "execute_result",
          "data": {
            "text/plain": [
              "0    [James, Inpatient, 32, K56.609]\n",
              "1    [Angela, Inpatient, 22, A16.69]\n",
              "dtype: object"
            ]
          },
          "metadata": {
            "tags": []
          },
          "execution_count": 42
        }
      ]
    },
    {
      "cell_type": "code",
      "metadata": {
        "id": "JziNnkfHtPXd",
        "colab_type": "code",
        "outputId": "23cf8c8e-eb81-4480-8cc7-8480dd5cc55a",
        "colab": {
          "base_uri": "https://localhost:8080/",
          "height": 102
        }
      },
      "source": [
        "# Looking at a pandas Series (data,index)\n",
        "series = pd.Series(['James','Inpatient',32,'K56.609'], index=[3,2,1,0])\n",
        "series"
      ],
      "execution_count": 0,
      "outputs": [
        {
          "output_type": "execute_result",
          "data": {
            "text/plain": [
              "3        James\n",
              "2    Inpatient\n",
              "1           32\n",
              "0      K56.609\n",
              "dtype: object"
            ]
          },
          "metadata": {
            "tags": []
          },
          "execution_count": 53
        }
      ]
    },
    {
      "cell_type": "code",
      "metadata": {
        "id": "lfr2_KOdtkz_",
        "colab_type": "code",
        "outputId": "f319981d-0da5-433a-9ec7-8b8f35572278",
        "colab": {
          "base_uri": "https://localhost:8080/",
          "height": 111
        }
      },
      "source": [
        "#Constucting Pandas Dataframes with Arrays\n",
        "dataframe = pd.DataFrame(patient_data)\n",
        "dataframe"
      ],
      "execution_count": 43,
      "outputs": [
        {
          "output_type": "execute_result",
          "data": {
            "text/html": [
              "<div>\n",
              "<style scoped>\n",
              "    .dataframe tbody tr th:only-of-type {\n",
              "        vertical-align: middle;\n",
              "    }\n",
              "\n",
              "    .dataframe tbody tr th {\n",
              "        vertical-align: top;\n",
              "    }\n",
              "\n",
              "    .dataframe thead th {\n",
              "        text-align: right;\n",
              "    }\n",
              "</style>\n",
              "<table border=\"1\" class=\"dataframe\">\n",
              "  <thead>\n",
              "    <tr style=\"text-align: right;\">\n",
              "      <th></th>\n",
              "      <th>0</th>\n",
              "      <th>1</th>\n",
              "      <th>2</th>\n",
              "      <th>3</th>\n",
              "    </tr>\n",
              "  </thead>\n",
              "  <tbody>\n",
              "    <tr>\n",
              "      <th>0</th>\n",
              "      <td>James</td>\n",
              "      <td>Inpatient</td>\n",
              "      <td>32</td>\n",
              "      <td>K56.609</td>\n",
              "    </tr>\n",
              "    <tr>\n",
              "      <th>1</th>\n",
              "      <td>Angela</td>\n",
              "      <td>Inpatient</td>\n",
              "      <td>22</td>\n",
              "      <td>A16.69</td>\n",
              "    </tr>\n",
              "  </tbody>\n",
              "</table>\n",
              "</div>"
            ],
            "text/plain": [
              "        0          1   2        3\n",
              "0   James  Inpatient  32  K56.609\n",
              "1  Angela  Inpatient  22   A16.69"
            ]
          },
          "metadata": {
            "tags": []
          },
          "execution_count": 43
        }
      ]
    },
    {
      "cell_type": "code",
      "metadata": {
        "id": "3C57RDC6zBHA",
        "colab_type": "code",
        "outputId": "1941098f-d0e4-48a5-a971-a65c9a56cf85",
        "colab": {
          "base_uri": "https://localhost:8080/",
          "height": 111
        }
      },
      "source": [
        "dataframe = pd.DataFrame(patient_data, columns=['Name','Status','Age','DA'])\n",
        "dataframe"
      ],
      "execution_count": 45,
      "outputs": [
        {
          "output_type": "execute_result",
          "data": {
            "text/html": [
              "<div>\n",
              "<style scoped>\n",
              "    .dataframe tbody tr th:only-of-type {\n",
              "        vertical-align: middle;\n",
              "    }\n",
              "\n",
              "    .dataframe tbody tr th {\n",
              "        vertical-align: top;\n",
              "    }\n",
              "\n",
              "    .dataframe thead th {\n",
              "        text-align: right;\n",
              "    }\n",
              "</style>\n",
              "<table border=\"1\" class=\"dataframe\">\n",
              "  <thead>\n",
              "    <tr style=\"text-align: right;\">\n",
              "      <th></th>\n",
              "      <th>Name</th>\n",
              "      <th>Status</th>\n",
              "      <th>Age</th>\n",
              "      <th>DA</th>\n",
              "    </tr>\n",
              "  </thead>\n",
              "  <tbody>\n",
              "    <tr>\n",
              "      <th>0</th>\n",
              "      <td>James</td>\n",
              "      <td>Inpatient</td>\n",
              "      <td>32</td>\n",
              "      <td>K56.609</td>\n",
              "    </tr>\n",
              "    <tr>\n",
              "      <th>1</th>\n",
              "      <td>Angela</td>\n",
              "      <td>Inpatient</td>\n",
              "      <td>22</td>\n",
              "      <td>A16.69</td>\n",
              "    </tr>\n",
              "  </tbody>\n",
              "</table>\n",
              "</div>"
            ],
            "text/plain": [
              "     Name     Status  Age       DA\n",
              "0   James  Inpatient   32  K56.609\n",
              "1  Angela  Inpatient   22   A16.69"
            ]
          },
          "metadata": {
            "tags": []
          },
          "execution_count": 45
        }
      ]
    },
    {
      "cell_type": "code",
      "metadata": {
        "id": "WpgfKPH6wtvT",
        "colab_type": "code",
        "outputId": "fe6bccb5-d9a0-4484-c2fa-c9dc10bba94c",
        "colab": {
          "base_uri": "https://localhost:8080/",
          "height": 111
        }
      },
      "source": [
        "patient_data = {'Name':['James','Angela'],\n",
        "                'Status':['Inpatient','Inpatient'],\n",
        "                'Age':[32,22],\n",
        "                'DA':['A16.69','K56.609']}\n",
        "pd.DataFrame(patient_data)"
      ],
      "execution_count": 46,
      "outputs": [
        {
          "output_type": "execute_result",
          "data": {
            "text/html": [
              "<div>\n",
              "<style scoped>\n",
              "    .dataframe tbody tr th:only-of-type {\n",
              "        vertical-align: middle;\n",
              "    }\n",
              "\n",
              "    .dataframe tbody tr th {\n",
              "        vertical-align: top;\n",
              "    }\n",
              "\n",
              "    .dataframe thead th {\n",
              "        text-align: right;\n",
              "    }\n",
              "</style>\n",
              "<table border=\"1\" class=\"dataframe\">\n",
              "  <thead>\n",
              "    <tr style=\"text-align: right;\">\n",
              "      <th></th>\n",
              "      <th>Name</th>\n",
              "      <th>Status</th>\n",
              "      <th>Age</th>\n",
              "      <th>DA</th>\n",
              "    </tr>\n",
              "  </thead>\n",
              "  <tbody>\n",
              "    <tr>\n",
              "      <th>0</th>\n",
              "      <td>James</td>\n",
              "      <td>Inpatient</td>\n",
              "      <td>32</td>\n",
              "      <td>A16.69</td>\n",
              "    </tr>\n",
              "    <tr>\n",
              "      <th>1</th>\n",
              "      <td>Angela</td>\n",
              "      <td>Inpatient</td>\n",
              "      <td>22</td>\n",
              "      <td>K56.609</td>\n",
              "    </tr>\n",
              "  </tbody>\n",
              "</table>\n",
              "</div>"
            ],
            "text/plain": [
              "     Name     Status  Age       DA\n",
              "0   James  Inpatient   32   A16.69\n",
              "1  Angela  Inpatient   22  K56.609"
            ]
          },
          "metadata": {
            "tags": []
          },
          "execution_count": 46
        }
      ]
    },
    {
      "cell_type": "markdown",
      "metadata": {
        "id": "IgAa4i08hbCH",
        "colab_type": "text"
      },
      "source": [
        "# Look at functions and Lambdas"
      ]
    },
    {
      "cell_type": "code",
      "metadata": {
        "id": "iGWfM7uS43Bd",
        "colab_type": "code",
        "outputId": "f948ea78-4a51-430d-e7cd-3585ce67f827",
        "colab": {
          "base_uri": "https://localhost:8080/",
          "height": 111
        }
      },
      "source": [
        "# Why didnt anything happen?\n",
        "dataframe.apply(lambda x: 'String' if type(x)== str else x)"
      ],
      "execution_count": 0,
      "outputs": [
        {
          "output_type": "execute_result",
          "data": {
            "text/html": [
              "<div>\n",
              "<style scoped>\n",
              "    .dataframe tbody tr th:only-of-type {\n",
              "        vertical-align: middle;\n",
              "    }\n",
              "\n",
              "    .dataframe tbody tr th {\n",
              "        vertical-align: top;\n",
              "    }\n",
              "\n",
              "    .dataframe thead th {\n",
              "        text-align: right;\n",
              "    }\n",
              "</style>\n",
              "<table border=\"1\" class=\"dataframe\">\n",
              "  <thead>\n",
              "    <tr style=\"text-align: right;\">\n",
              "      <th></th>\n",
              "      <th>Name</th>\n",
              "      <th>Status</th>\n",
              "      <th>Age</th>\n",
              "      <th>DA</th>\n",
              "    </tr>\n",
              "  </thead>\n",
              "  <tbody>\n",
              "    <tr>\n",
              "      <th>0</th>\n",
              "      <td>James</td>\n",
              "      <td>Inpatient</td>\n",
              "      <td>32</td>\n",
              "      <td>K56.609</td>\n",
              "    </tr>\n",
              "    <tr>\n",
              "      <th>1</th>\n",
              "      <td>Angela</td>\n",
              "      <td>Inpatient</td>\n",
              "      <td>22</td>\n",
              "      <td>A16.69</td>\n",
              "    </tr>\n",
              "  </tbody>\n",
              "</table>\n",
              "</div>"
            ],
            "text/plain": [
              "     Name     Status  Age       DA\n",
              "0   James  Inpatient   32  K56.609\n",
              "1  Angela  Inpatient   22   A16.69"
            ]
          },
          "metadata": {
            "tags": []
          },
          "execution_count": 39
        }
      ]
    },
    {
      "cell_type": "code",
      "metadata": {
        "id": "uDvmYNwT5TjK",
        "colab_type": "code",
        "outputId": "539d67c5-c2b6-4286-c504-dbf6f073a5f7",
        "colab": {
          "base_uri": "https://localhost:8080/",
          "height": 111
        }
      },
      "source": [
        "# Adding applymap to the dataframe it maps the item in place.\n",
        "dataframe.applymap(lambda x: 'String' if type(x)== str else x)"
      ],
      "execution_count": 47,
      "outputs": [
        {
          "output_type": "execute_result",
          "data": {
            "text/html": [
              "<div>\n",
              "<style scoped>\n",
              "    .dataframe tbody tr th:only-of-type {\n",
              "        vertical-align: middle;\n",
              "    }\n",
              "\n",
              "    .dataframe tbody tr th {\n",
              "        vertical-align: top;\n",
              "    }\n",
              "\n",
              "    .dataframe thead th {\n",
              "        text-align: right;\n",
              "    }\n",
              "</style>\n",
              "<table border=\"1\" class=\"dataframe\">\n",
              "  <thead>\n",
              "    <tr style=\"text-align: right;\">\n",
              "      <th></th>\n",
              "      <th>Name</th>\n",
              "      <th>Status</th>\n",
              "      <th>Age</th>\n",
              "      <th>DA</th>\n",
              "    </tr>\n",
              "  </thead>\n",
              "  <tbody>\n",
              "    <tr>\n",
              "      <th>0</th>\n",
              "      <td>String</td>\n",
              "      <td>String</td>\n",
              "      <td>32</td>\n",
              "      <td>String</td>\n",
              "    </tr>\n",
              "    <tr>\n",
              "      <th>1</th>\n",
              "      <td>String</td>\n",
              "      <td>String</td>\n",
              "      <td>22</td>\n",
              "      <td>String</td>\n",
              "    </tr>\n",
              "  </tbody>\n",
              "</table>\n",
              "</div>"
            ],
            "text/plain": [
              "     Name  Status  Age      DA\n",
              "0  String  String   32  String\n",
              "1  String  String   22  String"
            ]
          },
          "metadata": {
            "tags": []
          },
          "execution_count": 47
        }
      ]
    },
    {
      "cell_type": "code",
      "metadata": {
        "id": "rdgiUI4kwqEw",
        "colab_type": "code",
        "outputId": "474e4c17-67ae-4391-f842-ee231437191a",
        "colab": {
          "base_uri": "https://localhost:8080/",
          "height": 111
        }
      },
      "source": [
        "# Creating a seperate column to append the dataframe.\n",
        "# Notice we are not using the map method. We do not want map it this time but to apply the function and do something with it.\n",
        "dataframe['Name_Type'] = dataframe['Name'].apply(lambda x: 'String' if type(x)== str else x)\n",
        "dataframe"
      ],
      "execution_count": 48,
      "outputs": [
        {
          "output_type": "execute_result",
          "data": {
            "text/html": [
              "<div>\n",
              "<style scoped>\n",
              "    .dataframe tbody tr th:only-of-type {\n",
              "        vertical-align: middle;\n",
              "    }\n",
              "\n",
              "    .dataframe tbody tr th {\n",
              "        vertical-align: top;\n",
              "    }\n",
              "\n",
              "    .dataframe thead th {\n",
              "        text-align: right;\n",
              "    }\n",
              "</style>\n",
              "<table border=\"1\" class=\"dataframe\">\n",
              "  <thead>\n",
              "    <tr style=\"text-align: right;\">\n",
              "      <th></th>\n",
              "      <th>Name</th>\n",
              "      <th>Status</th>\n",
              "      <th>Age</th>\n",
              "      <th>DA</th>\n",
              "      <th>Name_Type</th>\n",
              "    </tr>\n",
              "  </thead>\n",
              "  <tbody>\n",
              "    <tr>\n",
              "      <th>0</th>\n",
              "      <td>James</td>\n",
              "      <td>Inpatient</td>\n",
              "      <td>32</td>\n",
              "      <td>K56.609</td>\n",
              "      <td>String</td>\n",
              "    </tr>\n",
              "    <tr>\n",
              "      <th>1</th>\n",
              "      <td>Angela</td>\n",
              "      <td>Inpatient</td>\n",
              "      <td>22</td>\n",
              "      <td>A16.69</td>\n",
              "      <td>String</td>\n",
              "    </tr>\n",
              "  </tbody>\n",
              "</table>\n",
              "</div>"
            ],
            "text/plain": [
              "     Name     Status  Age       DA Name_Type\n",
              "0   James  Inpatient   32  K56.609    String\n",
              "1  Angela  Inpatient   22   A16.69    String"
            ]
          },
          "metadata": {
            "tags": []
          },
          "execution_count": 48
        }
      ]
    },
    {
      "cell_type": "markdown",
      "metadata": {
        "id": "tKIJPH7NiTXF",
        "colab_type": "text"
      },
      "source": [
        "# Load in the Quick-DRG file - Actual Project"
      ]
    },
    {
      "cell_type": "code",
      "metadata": {
        "id": "iXRGTrtSimpG",
        "colab_type": "code",
        "colab": {}
      },
      "source": [
        "# Read in the quick_drg file and call it \"df\"\n",
        "df = pd.read_csv('quick_drg.txt',sep='\\t')"
      ],
      "execution_count": 0,
      "outputs": []
    },
    {
      "cell_type": "code",
      "metadata": {
        "id": "WKMZ47s3jWKg",
        "colab_type": "code",
        "outputId": "1c4eec1f-a83c-43a0-e353-45b5d9c3e43d",
        "colab": {
          "base_uri": "https://localhost:8080/",
          "height": 204
        }
      },
      "source": [
        "# Show the top 5 rows\n",
        "df.head()"
      ],
      "execution_count": 159,
      "outputs": [
        {
          "output_type": "execute_result",
          "data": {
            "text/html": [
              "<div>\n",
              "<style scoped>\n",
              "    .dataframe tbody tr th:only-of-type {\n",
              "        vertical-align: middle;\n",
              "    }\n",
              "\n",
              "    .dataframe tbody tr th {\n",
              "        vertical-align: top;\n",
              "    }\n",
              "\n",
              "    .dataframe thead th {\n",
              "        text-align: right;\n",
              "    }\n",
              "</style>\n",
              "<table border=\"1\" class=\"dataframe\">\n",
              "  <thead>\n",
              "    <tr style=\"text-align: right;\">\n",
              "      <th></th>\n",
              "      <th>MRN</th>\n",
              "      <th>Adm_Age</th>\n",
              "      <th>EncounterType</th>\n",
              "      <th>Facility</th>\n",
              "      <th>Division</th>\n",
              "      <th>Sex</th>\n",
              "      <th>DA1</th>\n",
              "      <th>DF1</th>\n",
              "      <th>DF2</th>\n",
              "      <th>DF3</th>\n",
              "      <th>DF4</th>\n",
              "      <th>DF5</th>\n",
              "      <th>DF6</th>\n",
              "      <th>DF7</th>\n",
              "      <th>DF8</th>\n",
              "      <th>DF9</th>\n",
              "      <th>DF10</th>\n",
              "      <th>Concurrent MS-DRG</th>\n",
              "    </tr>\n",
              "  </thead>\n",
              "  <tbody>\n",
              "    <tr>\n",
              "      <th>0</th>\n",
              "      <td>4579953</td>\n",
              "      <td>57</td>\n",
              "      <td>Inpatient</td>\n",
              "      <td>JNMC</td>\n",
              "      <td>N</td>\n",
              "      <td>F</td>\n",
              "      <td>K56.609</td>\n",
              "      <td>K46.0</td>\n",
              "      <td>K56.51</td>\n",
              "      <td>N39.0</td>\n",
              "      <td>I10</td>\n",
              "      <td>E87.6</td>\n",
              "      <td>J45.909</td>\n",
              "      <td>Z90.710</td>\n",
              "      <td>Z90.49</td>\n",
              "      <td>NaN</td>\n",
              "      <td>NaN</td>\n",
              "      <td>394</td>\n",
              "    </tr>\n",
              "    <tr>\n",
              "      <th>1</th>\n",
              "      <td>4193343</td>\n",
              "      <td>28</td>\n",
              "      <td>Inpatient</td>\n",
              "      <td>JNMC</td>\n",
              "      <td>N</td>\n",
              "      <td>F</td>\n",
              "      <td>J45.901</td>\n",
              "      <td>A41.9</td>\n",
              "      <td>J12.1</td>\n",
              "      <td>J45.901</td>\n",
              "      <td>N30.00</td>\n",
              "      <td>Z68.43</td>\n",
              "      <td>R17</td>\n",
              "      <td>J20.5</td>\n",
              "      <td>E66.01</td>\n",
              "      <td>M06.9</td>\n",
              "      <td>E87.5</td>\n",
              "      <td>871</td>\n",
              "    </tr>\n",
              "    <tr>\n",
              "      <th>2</th>\n",
              "      <td>4534623</td>\n",
              "      <td>29</td>\n",
              "      <td>Inpatient</td>\n",
              "      <td>JNMC</td>\n",
              "      <td>N</td>\n",
              "      <td>F</td>\n",
              "      <td>O80</td>\n",
              "      <td>O80</td>\n",
              "      <td>Z37.0</td>\n",
              "      <td>Z3A.39</td>\n",
              "      <td>NaN</td>\n",
              "      <td>NaN</td>\n",
              "      <td>NaN</td>\n",
              "      <td>NaN</td>\n",
              "      <td>NaN</td>\n",
              "      <td>NaN</td>\n",
              "      <td>NaN</td>\n",
              "      <td>807</td>\n",
              "    </tr>\n",
              "    <tr>\n",
              "      <th>3</th>\n",
              "      <td>5415472</td>\n",
              "      <td>37</td>\n",
              "      <td>Inpatient</td>\n",
              "      <td>JNMC</td>\n",
              "      <td>N</td>\n",
              "      <td>F</td>\n",
              "      <td>O33.9</td>\n",
              "      <td>O33.9</td>\n",
              "      <td>Z37.0</td>\n",
              "      <td>Z3A.39</td>\n",
              "      <td>Z28.21</td>\n",
              "      <td>NaN</td>\n",
              "      <td>NaN</td>\n",
              "      <td>NaN</td>\n",
              "      <td>NaN</td>\n",
              "      <td>NaN</td>\n",
              "      <td>NaN</td>\n",
              "      <td>788</td>\n",
              "    </tr>\n",
              "    <tr>\n",
              "      <th>4</th>\n",
              "      <td>4131134</td>\n",
              "      <td>70</td>\n",
              "      <td>Inpatient</td>\n",
              "      <td>JSCH</td>\n",
              "      <td>S</td>\n",
              "      <td>F</td>\n",
              "      <td>C19</td>\n",
              "      <td>C19</td>\n",
              "      <td>E86.0</td>\n",
              "      <td>F40.240</td>\n",
              "      <td>I10</td>\n",
              "      <td>Z85.038</td>\n",
              "      <td>Z87.891</td>\n",
              "      <td>NaN</td>\n",
              "      <td>NaN</td>\n",
              "      <td>NaN</td>\n",
              "      <td>NaN</td>\n",
              "      <td>331</td>\n",
              "    </tr>\n",
              "  </tbody>\n",
              "</table>\n",
              "</div>"
            ],
            "text/plain": [
              "       MRN  Adm_Age EncounterType  ...       DF9      DF10 Concurrent MS-DRG\n",
              "0  4579953       57     Inpatient  ...       NaN       NaN               394\n",
              "1  4193343       28     Inpatient  ...  M06.9     E87.5                  871\n",
              "2  4534623       29     Inpatient  ...       NaN       NaN               807\n",
              "3  5415472       37     Inpatient  ...       NaN       NaN               788\n",
              "4  4131134       70     Inpatient  ...       NaN       NaN               331\n",
              "\n",
              "[5 rows x 18 columns]"
            ]
          },
          "metadata": {
            "tags": []
          },
          "execution_count": 159
        }
      ]
    },
    {
      "cell_type": "code",
      "metadata": {
        "id": "2e3tiQ-XjYoR",
        "colab_type": "code",
        "outputId": "47826035-9c72-4a3e-e32f-f8fabb0efc4e",
        "colab": {
          "base_uri": "https://localhost:8080/",
          "height": 408
        }
      },
      "source": [
        "# Show information about the data such as Column names, DataTypes and number of rows in each column.\n",
        "df.info()"
      ],
      "execution_count": 160,
      "outputs": [
        {
          "output_type": "stream",
          "text": [
            "<class 'pandas.core.frame.DataFrame'>\n",
            "RangeIndex: 36 entries, 0 to 35\n",
            "Data columns (total 18 columns):\n",
            "MRN                  36 non-null int64\n",
            "Adm_Age              36 non-null int64\n",
            "EncounterType        36 non-null object\n",
            "Facility             36 non-null object\n",
            "Division             36 non-null object\n",
            "Sex                  36 non-null object\n",
            "DA1                  36 non-null object\n",
            "DF1                  36 non-null object\n",
            "DF2                  36 non-null object\n",
            "DF3                  36 non-null object\n",
            "DF4                  34 non-null object\n",
            "DF5                  33 non-null object\n",
            "DF6                  28 non-null object\n",
            "DF7                  26 non-null object\n",
            "DF8                  24 non-null object\n",
            "DF9                  22 non-null object\n",
            "DF10                 19 non-null object\n",
            "Concurrent MS-DRG    36 non-null int64\n",
            "dtypes: int64(3), object(15)\n",
            "memory usage: 5.2+ KB\n"
          ],
          "name": "stdout"
        }
      ]
    },
    {
      "cell_type": "code",
      "metadata": {
        "id": "3PhhBclZko5C",
        "colab_type": "code",
        "outputId": "6e289c2c-2758-4dea-e6a3-59d5044bd73f",
        "colab": {
          "base_uri": "https://localhost:8080/",
          "height": 85
        }
      },
      "source": [
        "# Present a list of all the column names aka the headers\n",
        "df.columns"
      ],
      "execution_count": 161,
      "outputs": [
        {
          "output_type": "execute_result",
          "data": {
            "text/plain": [
              "Index(['MRN', 'Adm_Age', 'EncounterType', 'Facility', 'Division', 'Sex', 'DA1',\n",
              "       'DF1', 'DF2', 'DF3', 'DF4', 'DF5', 'DF6', 'DF7', 'DF8', 'DF9', 'DF10',\n",
              "       'Concurrent MS-DRG'],\n",
              "      dtype='object')"
            ]
          },
          "metadata": {
            "tags": []
          },
          "execution_count": 161
        }
      ]
    },
    {
      "cell_type": "code",
      "metadata": {
        "id": "FB7q84vXlIMC",
        "colab_type": "code",
        "outputId": "382cad6c-d81e-4ecf-8ca4-6a415b09694c",
        "colab": {
          "base_uri": "https://localhost:8080/",
          "height": 34
        }
      },
      "source": [
        "# What is abother way to push out a list of headers?\n",
        "print(list(df.keys()))"
      ],
      "execution_count": 162,
      "outputs": [
        {
          "output_type": "stream",
          "text": [
            "['MRN', 'Adm_Age', 'EncounterType', 'Facility', 'Division', 'Sex', 'DA1', 'DF1', 'DF2', 'DF3', 'DF4', 'DF5', 'DF6', 'DF7', 'DF8', 'DF9', 'DF10', 'Concurrent MS-DRG']\n"
          ],
          "name": "stdout"
        }
      ]
    },
    {
      "cell_type": "code",
      "metadata": {
        "id": "Sd4nTox2lKUQ",
        "colab_type": "code",
        "outputId": "d314e863-e0a0-4564-976d-ed756362212e",
        "colab": {
          "base_uri": "https://localhost:8080/",
          "height": 289
        }
      },
      "source": [
        "# DataFrames are nothing but multi-Dimensional Arrays\n",
        "list(df.values[:5])"
      ],
      "execution_count": 163,
      "outputs": [
        {
          "output_type": "execute_result",
          "data": {
            "text/plain": [
              "[array([4579953, 57, 'Inpatient', 'JNMC', 'N  ', 'F', 'K56.609 ',\n",
              "        'K46.0   ', 'K56.51  ', 'N39.0   ', 'I10     ', 'E87.6   ',\n",
              "        'J45.909 ', 'Z90.710 ', 'Z90.49  ', nan, nan, 394], dtype=object),\n",
              " array([4193343, 28, 'Inpatient', 'JNMC', 'N  ', 'F', 'J45.901 ',\n",
              "        'A41.9   ', 'J12.1   ', 'J45.901 ', 'N30.00  ', 'Z68.43  ',\n",
              "        'R17     ', 'J20.5   ', 'E66.01  ', 'M06.9   ', 'E87.5   ', 871],\n",
              "       dtype=object),\n",
              " array([4534623, 29, 'Inpatient', 'JNMC', 'N  ', 'F', 'O80     ',\n",
              "        'O80     ', 'Z37.0   ', 'Z3A.39  ', nan, nan, nan, nan, nan, nan,\n",
              "        nan, 807], dtype=object),\n",
              " array([5415472, 37, 'Inpatient', 'JNMC', 'N  ', 'F', 'O33.9   ',\n",
              "        'O33.9   ', 'Z37.0   ', 'Z3A.39  ', 'Z28.21  ', nan, nan, nan, nan,\n",
              "        nan, nan, 788], dtype=object),\n",
              " array([4131134, 70, 'Inpatient', 'JSCH', 'S  ', 'F', 'C19     ',\n",
              "        'C19     ', 'E86.0   ', 'F40.240 ', 'I10     ', 'Z85.038 ',\n",
              "        'Z87.891 ', nan, nan, nan, nan, 331], dtype=object)]"
            ]
          },
          "metadata": {
            "tags": []
          },
          "execution_count": 163
        }
      ]
    },
    {
      "cell_type": "code",
      "metadata": {
        "id": "OD8jjAPHlQ4R",
        "colab_type": "code",
        "outputId": "eb2220ad-fd90-44e4-825b-d714045adbce",
        "colab": {
          "base_uri": "https://localhost:8080/",
          "height": 34
        }
      },
      "source": [
        "# Return a list of any column that has the name DA or DF into a variable called diagnosis\n",
        "diagnosis = [i for i in list(df.keys()) if i.startswith('DA') or i.startswith('DF')]\n",
        "diagnosis"
      ],
      "execution_count": 164,
      "outputs": [
        {
          "output_type": "execute_result",
          "data": {
            "text/plain": [
              "['DA1', 'DF1', 'DF2', 'DF3', 'DF4', 'DF5', 'DF6', 'DF7', 'DF8', 'DF9', 'DF10']"
            ]
          },
          "metadata": {
            "tags": []
          },
          "execution_count": 164
        }
      ]
    },
    {
      "cell_type": "code",
      "metadata": {
        "id": "V6gQsr9unto_",
        "colab_type": "code",
        "outputId": "8850d761-d7a1-4b7a-8c4a-25363d92ece8",
        "colab": {
          "base_uri": "https://localhost:8080/",
          "height": 34
        }
      },
      "source": [
        "# Alternative code using in statement.\n",
        "diagnosis = [k for k in df.keys() if 'DF' in k or 'DA' in k]\n",
        "diagnosis"
      ],
      "execution_count": 165,
      "outputs": [
        {
          "output_type": "execute_result",
          "data": {
            "text/plain": [
              "['DA1', 'DF1', 'DF2', 'DF3', 'DF4', 'DF5', 'DF6', 'DF7', 'DF8', 'DF9', 'DF10']"
            ]
          },
          "metadata": {
            "tags": []
          },
          "execution_count": 165
        }
      ]
    },
    {
      "cell_type": "code",
      "metadata": {
        "id": "ZyU6-2yCmKrE",
        "colab_type": "code",
        "outputId": "77508498-b2f1-4ac4-89c0-750b2c668747",
        "colab": {
          "base_uri": "https://localhost:8080/",
          "height": 204
        }
      },
      "source": [
        "df[diagnosis].head()"
      ],
      "execution_count": 166,
      "outputs": [
        {
          "output_type": "execute_result",
          "data": {
            "text/html": [
              "<div>\n",
              "<style scoped>\n",
              "    .dataframe tbody tr th:only-of-type {\n",
              "        vertical-align: middle;\n",
              "    }\n",
              "\n",
              "    .dataframe tbody tr th {\n",
              "        vertical-align: top;\n",
              "    }\n",
              "\n",
              "    .dataframe thead th {\n",
              "        text-align: right;\n",
              "    }\n",
              "</style>\n",
              "<table border=\"1\" class=\"dataframe\">\n",
              "  <thead>\n",
              "    <tr style=\"text-align: right;\">\n",
              "      <th></th>\n",
              "      <th>DA1</th>\n",
              "      <th>DF1</th>\n",
              "      <th>DF2</th>\n",
              "      <th>DF3</th>\n",
              "      <th>DF4</th>\n",
              "      <th>DF5</th>\n",
              "      <th>DF6</th>\n",
              "      <th>DF7</th>\n",
              "      <th>DF8</th>\n",
              "      <th>DF9</th>\n",
              "      <th>DF10</th>\n",
              "    </tr>\n",
              "  </thead>\n",
              "  <tbody>\n",
              "    <tr>\n",
              "      <th>0</th>\n",
              "      <td>K56.609</td>\n",
              "      <td>K46.0</td>\n",
              "      <td>K56.51</td>\n",
              "      <td>N39.0</td>\n",
              "      <td>I10</td>\n",
              "      <td>E87.6</td>\n",
              "      <td>J45.909</td>\n",
              "      <td>Z90.710</td>\n",
              "      <td>Z90.49</td>\n",
              "      <td>NaN</td>\n",
              "      <td>NaN</td>\n",
              "    </tr>\n",
              "    <tr>\n",
              "      <th>1</th>\n",
              "      <td>J45.901</td>\n",
              "      <td>A41.9</td>\n",
              "      <td>J12.1</td>\n",
              "      <td>J45.901</td>\n",
              "      <td>N30.00</td>\n",
              "      <td>Z68.43</td>\n",
              "      <td>R17</td>\n",
              "      <td>J20.5</td>\n",
              "      <td>E66.01</td>\n",
              "      <td>M06.9</td>\n",
              "      <td>E87.5</td>\n",
              "    </tr>\n",
              "    <tr>\n",
              "      <th>2</th>\n",
              "      <td>O80</td>\n",
              "      <td>O80</td>\n",
              "      <td>Z37.0</td>\n",
              "      <td>Z3A.39</td>\n",
              "      <td>NaN</td>\n",
              "      <td>NaN</td>\n",
              "      <td>NaN</td>\n",
              "      <td>NaN</td>\n",
              "      <td>NaN</td>\n",
              "      <td>NaN</td>\n",
              "      <td>NaN</td>\n",
              "    </tr>\n",
              "    <tr>\n",
              "      <th>3</th>\n",
              "      <td>O33.9</td>\n",
              "      <td>O33.9</td>\n",
              "      <td>Z37.0</td>\n",
              "      <td>Z3A.39</td>\n",
              "      <td>Z28.21</td>\n",
              "      <td>NaN</td>\n",
              "      <td>NaN</td>\n",
              "      <td>NaN</td>\n",
              "      <td>NaN</td>\n",
              "      <td>NaN</td>\n",
              "      <td>NaN</td>\n",
              "    </tr>\n",
              "    <tr>\n",
              "      <th>4</th>\n",
              "      <td>C19</td>\n",
              "      <td>C19</td>\n",
              "      <td>E86.0</td>\n",
              "      <td>F40.240</td>\n",
              "      <td>I10</td>\n",
              "      <td>Z85.038</td>\n",
              "      <td>Z87.891</td>\n",
              "      <td>NaN</td>\n",
              "      <td>NaN</td>\n",
              "      <td>NaN</td>\n",
              "      <td>NaN</td>\n",
              "    </tr>\n",
              "  </tbody>\n",
              "</table>\n",
              "</div>"
            ],
            "text/plain": [
              "        DA1       DF1       DF2  ...       DF8       DF9      DF10\n",
              "0  K56.609   K46.0     K56.51    ...  Z90.49         NaN       NaN\n",
              "1  J45.901   A41.9     J12.1     ...  E66.01    M06.9     E87.5   \n",
              "2  O80       O80       Z37.0     ...       NaN       NaN       NaN\n",
              "3  O33.9     O33.9     Z37.0     ...       NaN       NaN       NaN\n",
              "4  C19       C19       E86.0     ...       NaN       NaN       NaN\n",
              "\n",
              "[5 rows x 11 columns]"
            ]
          },
          "metadata": {
            "tags": []
          },
          "execution_count": 166
        }
      ]
    },
    {
      "cell_type": "code",
      "metadata": {
        "id": "zQ6hLmrjnDzl",
        "colab_type": "code",
        "colab": {}
      },
      "source": [
        "#Assign the DataFrame to another space in memory called \"dx_DF\"\n",
        "diagDF = df[diagnosis]"
      ],
      "execution_count": 0,
      "outputs": []
    },
    {
      "cell_type": "code",
      "metadata": {
        "id": "mC-NSbK-orLT",
        "colab_type": "code",
        "outputId": "08ee3f07-797c-4bc1-8371-7eadac4d9fd1",
        "colab": {
          "base_uri": "https://localhost:8080/",
          "height": 221
        }
      },
      "source": [
        "# What do all these NaN values look like across this partition of the dataset?\n",
        "missing_values = diagDF.isnull().sum()\n",
        "missing_values"
      ],
      "execution_count": 168,
      "outputs": [
        {
          "output_type": "execute_result",
          "data": {
            "text/plain": [
              "DA1      0\n",
              "DF1      0\n",
              "DF2      0\n",
              "DF3      0\n",
              "DF4      2\n",
              "DF5      3\n",
              "DF6      8\n",
              "DF7     10\n",
              "DF8     12\n",
              "DF9     14\n",
              "DF10    17\n",
              "dtype: int64"
            ]
          },
          "metadata": {
            "tags": []
          },
          "execution_count": 168
        }
      ]
    },
    {
      "cell_type": "code",
      "metadata": {
        "id": "uPmHrWw4o_fB",
        "colab_type": "code",
        "outputId": "79cbb96d-1fb0-4486-e29b-97c2c34e71f2",
        "colab": {
          "base_uri": "https://localhost:8080/",
          "height": 390
        }
      },
      "source": [
        "# Can I graph that to see what that looks like?\n",
        "missing_values.plot(kind='bar',figsize=(10,6))\n",
        "plt.show()\n"
      ],
      "execution_count": 169,
      "outputs": [
        {
          "output_type": "display_data",
          "data": {
            "image/png": "[encoded data removed]",
            "text/plain": [
              "<Figure size 720x432 with 1 Axes>"
            ]
          },
          "metadata": {
            "tags": []
          }
        }
      ]
    },
    {
      "cell_type": "markdown",
      "metadata": {
        "id": "1lafMEkPpdSU",
        "colab_type": "text"
      },
      "source": [
        "# What can we infer about the data and what do we do about it?\n"
      ]
    },
    {
      "cell_type": "code",
      "metadata": {
        "id": "TlI6iglLpgZh",
        "colab_type": "code",
        "outputId": "d4f26194-e2e6-43a2-f349-b5fee2fa6c2d",
        "colab": {
          "base_uri": "https://localhost:8080/",
          "height": 204
        }
      },
      "source": [
        "# First let make the name something we can actually understand by using a crosswalk\n",
        "# Read in the \"icd10_family.xlsx\" file so we can map the items in the Dataframe\n",
        "\n",
        "icd_family = pd.read_excel('icd10_family.xlsx')\n",
        "icd_family.head()"
      ],
      "execution_count": 170,
      "outputs": [
        {
          "output_type": "execute_result",
          "data": {
            "text/html": [
              "<div>\n",
              "<style scoped>\n",
              "    .dataframe tbody tr th:only-of-type {\n",
              "        vertical-align: middle;\n",
              "    }\n",
              "\n",
              "    .dataframe tbody tr th {\n",
              "        vertical-align: top;\n",
              "    }\n",
              "\n",
              "    .dataframe thead th {\n",
              "        text-align: right;\n",
              "    }\n",
              "</style>\n",
              "<table border=\"1\" class=\"dataframe\">\n",
              "  <thead>\n",
              "    <tr style=\"text-align: right;\">\n",
              "      <th></th>\n",
              "      <th>ICD-10 Codes</th>\n",
              "      <th>Code Description</th>\n",
              "      <th>Family</th>\n",
              "    </tr>\n",
              "  </thead>\n",
              "  <tbody>\n",
              "    <tr>\n",
              "      <th>0</th>\n",
              "      <td>A00.0</td>\n",
              "      <td>Cholera due to Vibrio cholerae 01, biovar chol...</td>\n",
              "      <td>Cholera</td>\n",
              "    </tr>\n",
              "    <tr>\n",
              "      <th>1</th>\n",
              "      <td>A00.1</td>\n",
              "      <td>Cholera due to Vibrio cholerae 01, biovar eltor</td>\n",
              "      <td>Cholera</td>\n",
              "    </tr>\n",
              "    <tr>\n",
              "      <th>2</th>\n",
              "      <td>A00.9</td>\n",
              "      <td>Cholera, unspecified</td>\n",
              "      <td>Cholera</td>\n",
              "    </tr>\n",
              "    <tr>\n",
              "      <th>3</th>\n",
              "      <td>A01.00</td>\n",
              "      <td>Typhoid fever, unspecified</td>\n",
              "      <td>Typhoid</td>\n",
              "    </tr>\n",
              "    <tr>\n",
              "      <th>4</th>\n",
              "      <td>A01.01</td>\n",
              "      <td>Typhoid meningitis</td>\n",
              "      <td>Typhoid</td>\n",
              "    </tr>\n",
              "  </tbody>\n",
              "</table>\n",
              "</div>"
            ],
            "text/plain": [
              "  ICD-10 Codes                                   Code Description    Family\n",
              "0         A00.0  Cholera due to Vibrio cholerae 01, biovar chol...  Cholera\n",
              "1         A00.1    Cholera due to Vibrio cholerae 01, biovar eltor  Cholera\n",
              "2         A00.9                               Cholera, unspecified  Cholera\n",
              "3        A01.00                         Typhoid fever, unspecified  Typhoid\n",
              "4        A01.01                                 Typhoid meningitis  Typhoid"
            ]
          },
          "metadata": {
            "tags": []
          },
          "execution_count": 170
        }
      ]
    },
    {
      "cell_type": "markdown",
      "metadata": {
        "id": "UkaOSXXykP22",
        "colab_type": "text"
      },
      "source": [
        "# Refer to building a Dictionary"
      ]
    },
    {
      "cell_type": "code",
      "metadata": {
        "id": "FwAMJePIrPlC",
        "colab_type": "code",
        "outputId": "87cb59df-c9bb-4d7d-a7d1-551cd4fc8aaa",
        "colab": {
          "base_uri": "https://localhost:8080/",
          "height": 34
        }
      },
      "source": [
        "# Lets map the values to to a family using this icd_family mapping.\n",
        "icd_dict = {icd: family for icd, family in icd_family[['ICD-10 Codes ','Family']].values}\n",
        "next(iter(icd_dict.items()))"
      ],
      "execution_count": 171,
      "outputs": [
        {
          "output_type": "execute_result",
          "data": {
            "text/plain": [
              "('A00.0', 'Cholera')"
            ]
          },
          "metadata": {
            "tags": []
          },
          "execution_count": 171
        }
      ]
    },
    {
      "cell_type": "code",
      "metadata": {
        "id": "GCZDZC-nvg0u",
        "colab_type": "code",
        "outputId": "6e67c55e-4833-49e3-ced6-560e00ca2286",
        "colab": {
          "base_uri": "https://localhost:8080/",
          "height": 204
        }
      },
      "source": [
        "# Lets view the Diagnosis DataFrame again so we can compare the before and after.\n",
        "diagDF.head()"
      ],
      "execution_count": 172,
      "outputs": [
        {
          "output_type": "execute_result",
          "data": {
            "text/html": [
              "<div>\n",
              "<style scoped>\n",
              "    .dataframe tbody tr th:only-of-type {\n",
              "        vertical-align: middle;\n",
              "    }\n",
              "\n",
              "    .dataframe tbody tr th {\n",
              "        vertical-align: top;\n",
              "    }\n",
              "\n",
              "    .dataframe thead th {\n",
              "        text-align: right;\n",
              "    }\n",
              "</style>\n",
              "<table border=\"1\" class=\"dataframe\">\n",
              "  <thead>\n",
              "    <tr style=\"text-align: right;\">\n",
              "      <th></th>\n",
              "      <th>DA1</th>\n",
              "      <th>DF1</th>\n",
              "      <th>DF2</th>\n",
              "      <th>DF3</th>\n",
              "      <th>DF4</th>\n",
              "      <th>DF5</th>\n",
              "      <th>DF6</th>\n",
              "      <th>DF7</th>\n",
              "      <th>DF8</th>\n",
              "      <th>DF9</th>\n",
              "      <th>DF10</th>\n",
              "    </tr>\n",
              "  </thead>\n",
              "  <tbody>\n",
              "    <tr>\n",
              "      <th>0</th>\n",
              "      <td>K56.609</td>\n",
              "      <td>K46.0</td>\n",
              "      <td>K56.51</td>\n",
              "      <td>N39.0</td>\n",
              "      <td>I10</td>\n",
              "      <td>E87.6</td>\n",
              "      <td>J45.909</td>\n",
              "      <td>Z90.710</td>\n",
              "      <td>Z90.49</td>\n",
              "      <td>NaN</td>\n",
              "      <td>NaN</td>\n",
              "    </tr>\n",
              "    <tr>\n",
              "      <th>1</th>\n",
              "      <td>J45.901</td>\n",
              "      <td>A41.9</td>\n",
              "      <td>J12.1</td>\n",
              "      <td>J45.901</td>\n",
              "      <td>N30.00</td>\n",
              "      <td>Z68.43</td>\n",
              "      <td>R17</td>\n",
              "      <td>J20.5</td>\n",
              "      <td>E66.01</td>\n",
              "      <td>M06.9</td>\n",
              "      <td>E87.5</td>\n",
              "    </tr>\n",
              "    <tr>\n",
              "      <th>2</th>\n",
              "      <td>O80</td>\n",
              "      <td>O80</td>\n",
              "      <td>Z37.0</td>\n",
              "      <td>Z3A.39</td>\n",
              "      <td>NaN</td>\n",
              "      <td>NaN</td>\n",
              "      <td>NaN</td>\n",
              "      <td>NaN</td>\n",
              "      <td>NaN</td>\n",
              "      <td>NaN</td>\n",
              "      <td>NaN</td>\n",
              "    </tr>\n",
              "    <tr>\n",
              "      <th>3</th>\n",
              "      <td>O33.9</td>\n",
              "      <td>O33.9</td>\n",
              "      <td>Z37.0</td>\n",
              "      <td>Z3A.39</td>\n",
              "      <td>Z28.21</td>\n",
              "      <td>NaN</td>\n",
              "      <td>NaN</td>\n",
              "      <td>NaN</td>\n",
              "      <td>NaN</td>\n",
              "      <td>NaN</td>\n",
              "      <td>NaN</td>\n",
              "    </tr>\n",
              "    <tr>\n",
              "      <th>4</th>\n",
              "      <td>C19</td>\n",
              "      <td>C19</td>\n",
              "      <td>E86.0</td>\n",
              "      <td>F40.240</td>\n",
              "      <td>I10</td>\n",
              "      <td>Z85.038</td>\n",
              "      <td>Z87.891</td>\n",
              "      <td>NaN</td>\n",
              "      <td>NaN</td>\n",
              "      <td>NaN</td>\n",
              "      <td>NaN</td>\n",
              "    </tr>\n",
              "  </tbody>\n",
              "</table>\n",
              "</div>"
            ],
            "text/plain": [
              "        DA1       DF1       DF2  ...       DF8       DF9      DF10\n",
              "0  K56.609   K46.0     K56.51    ...  Z90.49         NaN       NaN\n",
              "1  J45.901   A41.9     J12.1     ...  E66.01    M06.9     E87.5   \n",
              "2  O80       O80       Z37.0     ...       NaN       NaN       NaN\n",
              "3  O33.9     O33.9     Z37.0     ...       NaN       NaN       NaN\n",
              "4  C19       C19       E86.0     ...       NaN       NaN       NaN\n",
              "\n",
              "[5 rows x 11 columns]"
            ]
          },
          "metadata": {
            "tags": []
          },
          "execution_count": 172
        }
      ]
    },
    {
      "cell_type": "code",
      "metadata": {
        "id": "xWLZUGjKwGor",
        "colab_type": "code",
        "outputId": "d722689d-dc1f-42e3-e2aa-16428edd60b3",
        "colab": {
          "base_uri": "https://localhost:8080/",
          "height": 51
        }
      },
      "source": [
        "# Applying transformation functions to a single column = Series\n",
        "print(type(diagDF))\n",
        "print(type(diagDF.DA1))"
      ],
      "execution_count": 173,
      "outputs": [
        {
          "output_type": "stream",
          "text": [
            "<class 'pandas.core.frame.DataFrame'>\n",
            "<class 'pandas.core.series.Series'>\n"
          ],
          "name": "stdout"
        }
      ]
    },
    {
      "cell_type": "code",
      "metadata": {
        "id": "6aKR1vLOwz17",
        "colab_type": "code",
        "outputId": "03047b81-c255-42e3-8248-d1e67a77a142",
        "colab": {
          "base_uri": "https://localhost:8080/",
          "height": 204
        }
      },
      "source": [
        "# Using the map method on DF1 lets see what the first 16 rows of mapping look like.\n",
        "diagDF.DF1.map(icd_dict)[10:20]"
      ],
      "execution_count": 174,
      "outputs": [
        {
          "output_type": "execute_result",
          "data": {
            "text/plain": [
              "10                                                  NaN\n",
              "11                                                  NaN\n",
              "12                                                  NaN\n",
              "13                                                  NaN\n",
              "14                      Infection following a procedure\n",
              "15                   Other specified injuries of thorax\n",
              "16    Labor and delivery complicated by cord around ...\n",
              "17                                                  NaN\n",
              "18                                                  NaN\n",
              "19                                                  NaN\n",
              "Name: DF1, dtype: object"
            ]
          },
          "metadata": {
            "tags": []
          },
          "execution_count": 174
        }
      ]
    },
    {
      "cell_type": "code",
      "metadata": {
        "id": "AhorcvZvxIx6",
        "colab_type": "code",
        "outputId": "1d54adea-180e-42b6-9f79-c2f620296906",
        "colab": {
          "base_uri": "https://localhost:8080/",
          "height": 34
        }
      },
      "source": [
        "# Does \"A41.9\" exist in Column DF1?\n",
        "icd_dict['A41.9']"
      ],
      "execution_count": 175,
      "outputs": [
        {
          "output_type": "execute_result",
          "data": {
            "text/plain": [
              "'Sepsis'"
            ]
          },
          "metadata": {
            "tags": []
          },
          "execution_count": 175
        }
      ]
    },
    {
      "cell_type": "markdown",
      "metadata": {
        "id": "m5yhmXCt0fLk",
        "colab_type": "text"
      },
      "source": [
        "## So What happened to the mapping?"
      ]
    },
    {
      "cell_type": "code",
      "metadata": {
        "id": "d6Qel9Z70kDf",
        "colab_type": "code",
        "outputId": "896628c9-162d-47ab-ae5c-5e10c51e1803",
        "colab": {
          "base_uri": "https://localhost:8080/",
          "height": 34
        }
      },
      "source": [
        "# We have white space for some reason in the file!\n",
        "diagDF.DF1[1]"
      ],
      "execution_count": 176,
      "outputs": [
        {
          "output_type": "execute_result",
          "data": {
            "text/plain": [
              "'A41.9   '"
            ]
          },
          "metadata": {
            "tags": []
          },
          "execution_count": 176
        }
      ]
    },
    {
      "cell_type": "code",
      "metadata": {
        "id": "H2TOGX6D0p6Q",
        "colab_type": "code",
        "outputId": "20d703d4-02ac-4dda-e29d-dadde9d403bd",
        "colab": {
          "base_uri": "https://localhost:8080/",
          "height": 34
        }
      },
      "source": [
        "# Using the .rstrip (right strip) method can strip that blank space to the right. \n",
        "diagDF.DF1[1].rstrip()"
      ],
      "execution_count": 177,
      "outputs": [
        {
          "output_type": "execute_result",
          "data": {
            "text/plain": [
              "'A41.9'"
            ]
          },
          "metadata": {
            "tags": []
          },
          "execution_count": 177
        }
      ]
    },
    {
      "cell_type": "code",
      "metadata": {
        "id": "p1gALwUu0_Fw",
        "colab_type": "code",
        "outputId": "652e6f5d-7aaa-4b46-b94d-3212ff868c94",
        "colab": {
          "base_uri": "https://localhost:8080/",
          "height": 523
        }
      },
      "source": [
        "diagDF['DF1_Family']= diagDF['DF1'].apply(lambda x: icd_dict[x.rstrip()] if type(x) == str and  x.rstrip() in icd_dict else 'Missing Family')\n",
        "diagDF.head(12)"
      ],
      "execution_count": 178,
      "outputs": [
        {
          "output_type": "stream",
          "text": [
            "/usr/local/lib/python3.6/dist-packages/ipykernel_launcher.py:1: SettingWithCopyWarning: \n",
            "A value is trying to be set on a copy of a slice from a DataFrame.\n",
            "Try using .loc[row_indexer,col_indexer] = value instead\n",
            "\n",
            "See the caveats in the documentation: http://pandas.pydata.org/pandas-docs/stable/user_guide/indexing.html#returning-a-view-versus-a-copy\n",
            "  \"\"\"Entry point for launching an IPython kernel.\n"
          ],
          "name": "stderr"
        },
        {
          "output_type": "execute_result",
          "data": {
            "text/html": [
              "<div>\n",
              "<style scoped>\n",
              "    .dataframe tbody tr th:only-of-type {\n",
              "        vertical-align: middle;\n",
              "    }\n",
              "\n",
              "    .dataframe tbody tr th {\n",
              "        vertical-align: top;\n",
              "    }\n",
              "\n",
              "    .dataframe thead th {\n",
              "        text-align: right;\n",
              "    }\n",
              "</style>\n",
              "<table border=\"1\" class=\"dataframe\">\n",
              "  <thead>\n",
              "    <tr style=\"text-align: right;\">\n",
              "      <th></th>\n",
              "      <th>DA1</th>\n",
              "      <th>DF1</th>\n",
              "      <th>DF2</th>\n",
              "      <th>DF3</th>\n",
              "      <th>DF4</th>\n",
              "      <th>DF5</th>\n",
              "      <th>DF6</th>\n",
              "      <th>DF7</th>\n",
              "      <th>DF8</th>\n",
              "      <th>DF9</th>\n",
              "      <th>DF10</th>\n",
              "      <th>DF1_Family</th>\n",
              "    </tr>\n",
              "  </thead>\n",
              "  <tbody>\n",
              "    <tr>\n",
              "      <th>0</th>\n",
              "      <td>K56.609</td>\n",
              "      <td>K46.0</td>\n",
              "      <td>K56.51</td>\n",
              "      <td>N39.0</td>\n",
              "      <td>I10</td>\n",
              "      <td>E87.6</td>\n",
              "      <td>J45.909</td>\n",
              "      <td>Z90.710</td>\n",
              "      <td>Z90.49</td>\n",
              "      <td>NaN</td>\n",
              "      <td>NaN</td>\n",
              "      <td>Other specified abdominal hernia</td>\n",
              "    </tr>\n",
              "    <tr>\n",
              "      <th>1</th>\n",
              "      <td>J45.901</td>\n",
              "      <td>A41.9</td>\n",
              "      <td>J12.1</td>\n",
              "      <td>J45.901</td>\n",
              "      <td>N30.00</td>\n",
              "      <td>Z68.43</td>\n",
              "      <td>R17</td>\n",
              "      <td>J20.5</td>\n",
              "      <td>E66.01</td>\n",
              "      <td>M06.9</td>\n",
              "      <td>E87.5</td>\n",
              "      <td>Sepsis</td>\n",
              "    </tr>\n",
              "    <tr>\n",
              "      <th>2</th>\n",
              "      <td>O80</td>\n",
              "      <td>O80</td>\n",
              "      <td>Z37.0</td>\n",
              "      <td>Z3A.39</td>\n",
              "      <td>NaN</td>\n",
              "      <td>NaN</td>\n",
              "      <td>NaN</td>\n",
              "      <td>NaN</td>\n",
              "      <td>NaN</td>\n",
              "      <td>NaN</td>\n",
              "      <td>NaN</td>\n",
              "      <td>Missing Family</td>\n",
              "    </tr>\n",
              "    <tr>\n",
              "      <th>3</th>\n",
              "      <td>O33.9</td>\n",
              "      <td>O33.9</td>\n",
              "      <td>Z37.0</td>\n",
              "      <td>Z3A.39</td>\n",
              "      <td>Z28.21</td>\n",
              "      <td>NaN</td>\n",
              "      <td>NaN</td>\n",
              "      <td>NaN</td>\n",
              "      <td>NaN</td>\n",
              "      <td>NaN</td>\n",
              "      <td>NaN</td>\n",
              "      <td>Maternal care for disproportion</td>\n",
              "    </tr>\n",
              "    <tr>\n",
              "      <th>4</th>\n",
              "      <td>C19</td>\n",
              "      <td>C19</td>\n",
              "      <td>E86.0</td>\n",
              "      <td>F40.240</td>\n",
              "      <td>I10</td>\n",
              "      <td>Z85.038</td>\n",
              "      <td>Z87.891</td>\n",
              "      <td>NaN</td>\n",
              "      <td>NaN</td>\n",
              "      <td>NaN</td>\n",
              "      <td>NaN</td>\n",
              "      <td>Missing Family</td>\n",
              "    </tr>\n",
              "    <tr>\n",
              "      <th>5</th>\n",
              "      <td>O26.893</td>\n",
              "      <td>O99.824</td>\n",
              "      <td>Z37.0</td>\n",
              "      <td>Z3A.39</td>\n",
              "      <td>O99.214</td>\n",
              "      <td>E66.9</td>\n",
              "      <td>O28.2</td>\n",
              "      <td>O70.0</td>\n",
              "      <td>O71.7</td>\n",
              "      <td>O72.1</td>\n",
              "      <td>NaN</td>\n",
              "      <td>Infection carrier state complicating childbirth</td>\n",
              "    </tr>\n",
              "    <tr>\n",
              "      <th>6</th>\n",
              "      <td>A41.9</td>\n",
              "      <td>A41.9</td>\n",
              "      <td>M62.82</td>\n",
              "      <td>N17.9</td>\n",
              "      <td>Z68.41</td>\n",
              "      <td>K29.20</td>\n",
              "      <td>E11.9</td>\n",
              "      <td>E78.5</td>\n",
              "      <td>F10.129</td>\n",
              "      <td>F14.10</td>\n",
              "      <td>I10</td>\n",
              "      <td>Sepsis</td>\n",
              "    </tr>\n",
              "    <tr>\n",
              "      <th>7</th>\n",
              "      <td>O26.893</td>\n",
              "      <td>O42.92</td>\n",
              "      <td>Z37.0</td>\n",
              "      <td>O41.1230</td>\n",
              "      <td>O70.22</td>\n",
              "      <td>O24.429</td>\n",
              "      <td>Z3A.39</td>\n",
              "      <td>O34.43</td>\n",
              "      <td>N84.1</td>\n",
              "      <td>O99.284</td>\n",
              "      <td>E28.2</td>\n",
              "      <td>Premature rupture of membranes</td>\n",
              "    </tr>\n",
              "    <tr>\n",
              "      <th>8</th>\n",
              "      <td>O26.62</td>\n",
              "      <td>O26.62</td>\n",
              "      <td>K83.1</td>\n",
              "      <td>Z37.0</td>\n",
              "      <td>Z3A.36</td>\n",
              "      <td>O69.2XX0</td>\n",
              "      <td>O70.1</td>\n",
              "      <td>NaN</td>\n",
              "      <td>NaN</td>\n",
              "      <td>NaN</td>\n",
              "      <td>NaN</td>\n",
              "      <td>Liver and biliary tract disorders in pregnancy</td>\n",
              "    </tr>\n",
              "    <tr>\n",
              "      <th>9</th>\n",
              "      <td>O80</td>\n",
              "      <td>O76</td>\n",
              "      <td>O36.8330</td>\n",
              "      <td>Z3A.40</td>\n",
              "      <td>Z37.0</td>\n",
              "      <td>Z28.21</td>\n",
              "      <td>NaN</td>\n",
              "      <td>NaN</td>\n",
              "      <td>NaN</td>\n",
              "      <td>NaN</td>\n",
              "      <td>NaN</td>\n",
              "      <td>Missing Family</td>\n",
              "    </tr>\n",
              "    <tr>\n",
              "      <th>10</th>\n",
              "      <td>O10.92</td>\n",
              "      <td>O11.4</td>\n",
              "      <td>Z37.0</td>\n",
              "      <td>J45.20</td>\n",
              "      <td>N73.6</td>\n",
              "      <td>O26.893</td>\n",
              "      <td>O34.211</td>\n",
              "      <td>O99.52</td>\n",
              "      <td>Z3A.32</td>\n",
              "      <td>O32.1XX0</td>\n",
              "      <td>O60.13X0</td>\n",
              "      <td>Pre-Existing Hypertension with Pre-Eclampsia</td>\n",
              "    </tr>\n",
              "    <tr>\n",
              "      <th>11</th>\n",
              "      <td>R06.02</td>\n",
              "      <td>I13.0</td>\n",
              "      <td>I50.23</td>\n",
              "      <td>N17.9</td>\n",
              "      <td>R18.8</td>\n",
              "      <td>E11.9</td>\n",
              "      <td>I10</td>\n",
              "      <td>N18.9</td>\n",
              "      <td>E11.22</td>\n",
              "      <td>Z89.512</td>\n",
              "      <td>E66.9</td>\n",
              "      <td>Hypertension</td>\n",
              "    </tr>\n",
              "  </tbody>\n",
              "</table>\n",
              "</div>"
            ],
            "text/plain": [
              "         DA1  ...                                       DF1_Family\n",
              "0   K56.609   ...                 Other specified abdominal hernia\n",
              "1   J45.901   ...                                           Sepsis\n",
              "2   O80       ...                                   Missing Family\n",
              "3   O33.9     ...                  Maternal care for disproportion\n",
              "4   C19       ...                                   Missing Family\n",
              "5   O26.893   ...  Infection carrier state complicating childbirth\n",
              "6   A41.9     ...                                           Sepsis\n",
              "7   O26.893   ...                   Premature rupture of membranes\n",
              "8   O26.62    ...   Liver and biliary tract disorders in pregnancy\n",
              "9   O80       ...                                   Missing Family\n",
              "10  O10.92    ...     Pre-Existing Hypertension with Pre-Eclampsia\n",
              "11  R06.02    ...                                     Hypertension\n",
              "\n",
              "[12 rows x 12 columns]"
            ]
          },
          "metadata": {
            "tags": []
          },
          "execution_count": 178
        }
      ]
    },
    {
      "cell_type": "code",
      "metadata": {
        "id": "0IYMObeqnvKO",
        "colab_type": "code",
        "colab": {
          "base_uri": "https://localhost:8080/",
          "height": 68
        },
        "outputId": "aa3e015a-02ce-4b9a-f240-a877e181385c"
      },
      "source": [
        "diagDF.columns.drop('DF1_Family')"
      ],
      "execution_count": 179,
      "outputs": [
        {
          "output_type": "execute_result",
          "data": {
            "text/plain": [
              "Index(['DA1', 'DF1', 'DF2', 'DF3', 'DF4', 'DF5', 'DF6', 'DF7', 'DF8', 'DF9',\n",
              "       'DF10'],\n",
              "      dtype='object')"
            ]
          },
          "metadata": {
            "tags": []
          },
          "execution_count": 179
        }
      ]
    },
    {
      "cell_type": "code",
      "metadata": {
        "id": "vZheyoX_hpEn",
        "colab_type": "code",
        "outputId": "e81454ef-fef6-486f-b75c-73ffad0073f7",
        "colab": {
          "base_uri": "https://localhost:8080/",
          "height": 615
        }
      },
      "source": [
        "# How can we apply this code accross all the columns?\n",
        "for col in diagDF.columns.drop('DF1_Family'):\n",
        "  diagDF[col+'_Family'] = diagDF[col].apply(lambda x: icd_dict[x.rstrip()] if type(x)==str and x.rstrip() in icd_dict else 'Missing Family' )\n",
        "diagDF.head()"
      ],
      "execution_count": 180,
      "outputs": [
        {
          "output_type": "stream",
          "text": [
            "/usr/local/lib/python3.6/dist-packages/ipykernel_launcher.py:2: SettingWithCopyWarning: \n",
            "A value is trying to be set on a copy of a slice from a DataFrame.\n",
            "Try using .loc[row_indexer,col_indexer] = value instead\n",
            "\n",
            "See the caveats in the documentation: http://pandas.pydata.org/pandas-docs/stable/user_guide/indexing.html#returning-a-view-versus-a-copy\n",
            "  \n"
          ],
          "name": "stderr"
        },
        {
          "output_type": "execute_result",
          "data": {
            "text/html": [
              "<div>\n",
              "<style scoped>\n",
              "    .dataframe tbody tr th:only-of-type {\n",
              "        vertical-align: middle;\n",
              "    }\n",
              "\n",
              "    .dataframe tbody tr th {\n",
              "        vertical-align: top;\n",
              "    }\n",
              "\n",
              "    .dataframe thead th {\n",
              "        text-align: right;\n",
              "    }\n",
              "</style>\n",
              "<table border=\"1\" class=\"dataframe\">\n",
              "  <thead>\n",
              "    <tr style=\"text-align: right;\">\n",
              "      <th></th>\n",
              "      <th>DA1</th>\n",
              "      <th>DF1</th>\n",
              "      <th>DF2</th>\n",
              "      <th>DF3</th>\n",
              "      <th>DF4</th>\n",
              "      <th>DF5</th>\n",
              "      <th>DF6</th>\n",
              "      <th>DF7</th>\n",
              "      <th>DF8</th>\n",
              "      <th>DF9</th>\n",
              "      <th>DF10</th>\n",
              "      <th>DF1_Family</th>\n",
              "      <th>DA1_Family</th>\n",
              "      <th>DF2_Family</th>\n",
              "      <th>DF3_Family</th>\n",
              "      <th>DF4_Family</th>\n",
              "      <th>DF5_Family</th>\n",
              "      <th>DF6_Family</th>\n",
              "      <th>DF7_Family</th>\n",
              "      <th>DF8_Family</th>\n",
              "      <th>DF9_Family</th>\n",
              "      <th>DF10_Family</th>\n",
              "    </tr>\n",
              "  </thead>\n",
              "  <tbody>\n",
              "    <tr>\n",
              "      <th>0</th>\n",
              "      <td>K56.609</td>\n",
              "      <td>K46.0</td>\n",
              "      <td>K56.51</td>\n",
              "      <td>N39.0</td>\n",
              "      <td>I10</td>\n",
              "      <td>E87.6</td>\n",
              "      <td>J45.909</td>\n",
              "      <td>Z90.710</td>\n",
              "      <td>Z90.49</td>\n",
              "      <td>NaN</td>\n",
              "      <td>NaN</td>\n",
              "      <td>Other specified abdominal hernia</td>\n",
              "      <td>Intestinal obstruction</td>\n",
              "      <td>Intestinal obstruction</td>\n",
              "      <td>Urinary Tract Infection</td>\n",
              "      <td>Missing Family</td>\n",
              "      <td>Disorders of electrolyte and fluid balance</td>\n",
              "      <td>Asthma</td>\n",
              "      <td>Acquired absence of specified parts of genital...</td>\n",
              "      <td>Acquired absence of specified parts of digesti...</td>\n",
              "      <td>Missing Family</td>\n",
              "      <td>Missing Family</td>\n",
              "    </tr>\n",
              "    <tr>\n",
              "      <th>1</th>\n",
              "      <td>J45.901</td>\n",
              "      <td>A41.9</td>\n",
              "      <td>J12.1</td>\n",
              "      <td>J45.901</td>\n",
              "      <td>N30.00</td>\n",
              "      <td>Z68.43</td>\n",
              "      <td>R17</td>\n",
              "      <td>J20.5</td>\n",
              "      <td>E66.01</td>\n",
              "      <td>M06.9</td>\n",
              "      <td>E87.5</td>\n",
              "      <td>Sepsis</td>\n",
              "      <td>Asthma</td>\n",
              "      <td>Pneumonia</td>\n",
              "      <td>Asthma</td>\n",
              "      <td>Acute Cystitis</td>\n",
              "      <td>BMI</td>\n",
              "      <td>Missing Family</td>\n",
              "      <td>Acute bronchitis</td>\n",
              "      <td>Obesity</td>\n",
              "      <td>Specified rheumatoid arthritis</td>\n",
              "      <td>Disorders of electrolyte and fluid balance</td>\n",
              "    </tr>\n",
              "    <tr>\n",
              "      <th>2</th>\n",
              "      <td>O80</td>\n",
              "      <td>O80</td>\n",
              "      <td>Z37.0</td>\n",
              "      <td>Z3A.39</td>\n",
              "      <td>NaN</td>\n",
              "      <td>NaN</td>\n",
              "      <td>NaN</td>\n",
              "      <td>NaN</td>\n",
              "      <td>NaN</td>\n",
              "      <td>NaN</td>\n",
              "      <td>NaN</td>\n",
              "      <td>Missing Family</td>\n",
              "      <td>Missing Family</td>\n",
              "      <td>Outcome of delivery</td>\n",
              "      <td>29- 42 weeks of gestation of pregnancy</td>\n",
              "      <td>Missing Family</td>\n",
              "      <td>Missing Family</td>\n",
              "      <td>Missing Family</td>\n",
              "      <td>Missing Family</td>\n",
              "      <td>Missing Family</td>\n",
              "      <td>Missing Family</td>\n",
              "      <td>Missing Family</td>\n",
              "    </tr>\n",
              "    <tr>\n",
              "      <th>3</th>\n",
              "      <td>O33.9</td>\n",
              "      <td>O33.9</td>\n",
              "      <td>Z37.0</td>\n",
              "      <td>Z3A.39</td>\n",
              "      <td>Z28.21</td>\n",
              "      <td>NaN</td>\n",
              "      <td>NaN</td>\n",
              "      <td>NaN</td>\n",
              "      <td>NaN</td>\n",
              "      <td>NaN</td>\n",
              "      <td>NaN</td>\n",
              "      <td>Maternal care for disproportion</td>\n",
              "      <td>Maternal care for disproportion</td>\n",
              "      <td>Outcome of delivery</td>\n",
              "      <td>29- 42 weeks of gestation of pregnancy</td>\n",
              "      <td>Immunization not carried out for specified reason</td>\n",
              "      <td>Missing Family</td>\n",
              "      <td>Missing Family</td>\n",
              "      <td>Missing Family</td>\n",
              "      <td>Missing Family</td>\n",
              "      <td>Missing Family</td>\n",
              "      <td>Missing Family</td>\n",
              "    </tr>\n",
              "    <tr>\n",
              "      <th>4</th>\n",
              "      <td>C19</td>\n",
              "      <td>C19</td>\n",
              "      <td>E86.0</td>\n",
              "      <td>F40.240</td>\n",
              "      <td>I10</td>\n",
              "      <td>Z85.038</td>\n",
              "      <td>Z87.891</td>\n",
              "      <td>NaN</td>\n",
              "      <td>NaN</td>\n",
              "      <td>NaN</td>\n",
              "      <td>NaN</td>\n",
              "      <td>Missing Family</td>\n",
              "      <td>Missing Family</td>\n",
              "      <td>Volume depletion</td>\n",
              "      <td>Situational type phobia</td>\n",
              "      <td>Missing Family</td>\n",
              "      <td>Personal history of malignant neoplasm</td>\n",
              "      <td>Personal history of specified conditions</td>\n",
              "      <td>Missing Family</td>\n",
              "      <td>Missing Family</td>\n",
              "      <td>Missing Family</td>\n",
              "      <td>Missing Family</td>\n",
              "    </tr>\n",
              "  </tbody>\n",
              "</table>\n",
              "</div>"
            ],
            "text/plain": [
              "        DA1  ...                                 DF10_Family\n",
              "0  K56.609   ...                              Missing Family\n",
              "1  J45.901   ...  Disorders of electrolyte and fluid balance\n",
              "2  O80       ...                              Missing Family\n",
              "3  O33.9     ...                              Missing Family\n",
              "4  C19       ...                              Missing Family\n",
              "\n",
              "[5 rows x 22 columns]"
            ]
          },
          "metadata": {
            "tags": []
          },
          "execution_count": 180
        }
      ]
    },
    {
      "cell_type": "markdown",
      "metadata": {
        "id": "zAnrsf_ZyBiK",
        "colab_type": "text"
      },
      "source": [
        "# The Weird Parts of Pandas"
      ]
    },
    {
      "cell_type": "code",
      "metadata": {
        "id": "41GymilesoSd",
        "colab_type": "code",
        "colab": {
          "base_uri": "https://localhost:8080/",
          "height": 216
        },
        "outputId": "21ab2b88-7765-45c5-961c-23f389cd6d99"
      },
      "source": [
        "# Return the DataFrame where on DF1_Family is Sepsis\n",
        "diagDF[diagDF['DF1_Family'] == 'Sepsis']"
      ],
      "execution_count": 182,
      "outputs": [
        {
          "output_type": "execute_result",
          "data": {
            "text/html": [
              "<div>\n",
              "<style scoped>\n",
              "    .dataframe tbody tr th:only-of-type {\n",
              "        vertical-align: middle;\n",
              "    }\n",
              "\n",
              "    .dataframe tbody tr th {\n",
              "        vertical-align: top;\n",
              "    }\n",
              "\n",
              "    .dataframe thead th {\n",
              "        text-align: right;\n",
              "    }\n",
              "</style>\n",
              "<table border=\"1\" class=\"dataframe\">\n",
              "  <thead>\n",
              "    <tr style=\"text-align: right;\">\n",
              "      <th></th>\n",
              "      <th>DA1</th>\n",
              "      <th>DF1</th>\n",
              "      <th>DF2</th>\n",
              "      <th>DF3</th>\n",
              "      <th>DF4</th>\n",
              "      <th>DF5</th>\n",
              "      <th>DF6</th>\n",
              "      <th>DF7</th>\n",
              "      <th>DF8</th>\n",
              "      <th>DF9</th>\n",
              "      <th>DF10</th>\n",
              "      <th>DF1_Family</th>\n",
              "      <th>DA1_Family</th>\n",
              "      <th>DF2_Family</th>\n",
              "      <th>DF3_Family</th>\n",
              "      <th>DF4_Family</th>\n",
              "      <th>DF5_Family</th>\n",
              "      <th>DF6_Family</th>\n",
              "      <th>DF7_Family</th>\n",
              "      <th>DF8_Family</th>\n",
              "      <th>DF9_Family</th>\n",
              "      <th>DF10_Family</th>\n",
              "    </tr>\n",
              "  </thead>\n",
              "  <tbody>\n",
              "    <tr>\n",
              "      <th>1</th>\n",
              "      <td>J45.901</td>\n",
              "      <td>A41.9</td>\n",
              "      <td>J12.1</td>\n",
              "      <td>J45.901</td>\n",
              "      <td>N30.00</td>\n",
              "      <td>Z68.43</td>\n",
              "      <td>R17</td>\n",
              "      <td>J20.5</td>\n",
              "      <td>E66.01</td>\n",
              "      <td>M06.9</td>\n",
              "      <td>E87.5</td>\n",
              "      <td>Sepsis</td>\n",
              "      <td>Asthma</td>\n",
              "      <td>Pneumonia</td>\n",
              "      <td>Asthma</td>\n",
              "      <td>Acute Cystitis</td>\n",
              "      <td>BMI</td>\n",
              "      <td>Missing Family</td>\n",
              "      <td>Acute bronchitis</td>\n",
              "      <td>Obesity</td>\n",
              "      <td>Specified rheumatoid arthritis</td>\n",
              "      <td>Disorders of electrolyte and fluid balance</td>\n",
              "    </tr>\n",
              "    <tr>\n",
              "      <th>6</th>\n",
              "      <td>A41.9</td>\n",
              "      <td>A41.9</td>\n",
              "      <td>M62.82</td>\n",
              "      <td>N17.9</td>\n",
              "      <td>Z68.41</td>\n",
              "      <td>K29.20</td>\n",
              "      <td>E11.9</td>\n",
              "      <td>E78.5</td>\n",
              "      <td>F10.129</td>\n",
              "      <td>F14.10</td>\n",
              "      <td>I10</td>\n",
              "      <td>Sepsis</td>\n",
              "      <td>Sepsis</td>\n",
              "      <td>Specified disorders of muscle</td>\n",
              "      <td>Acute Kidney Failure</td>\n",
              "      <td>BMI</td>\n",
              "      <td>Gastritis/duodenitis</td>\n",
              "      <td>Type 2 diabetes mellitus</td>\n",
              "      <td>Hyperlipidemia</td>\n",
              "      <td>Alcohol abuse</td>\n",
              "      <td>Cocaine abuse</td>\n",
              "      <td>Missing Family</td>\n",
              "    </tr>\n",
              "  </tbody>\n",
              "</table>\n",
              "</div>"
            ],
            "text/plain": [
              "        DA1  ...                                 DF10_Family\n",
              "1  J45.901   ...  Disorders of electrolyte and fluid balance\n",
              "6  A41.9     ...                              Missing Family\n",
              "\n",
              "[2 rows x 22 columns]"
            ]
          },
          "metadata": {
            "tags": []
          },
          "execution_count": 182
        }
      ]
    },
    {
      "cell_type": "code",
      "metadata": {
        "id": "W5cXj6S4yZ_A",
        "colab_type": "code",
        "colab": {
          "base_uri": "https://localhost:8080/",
          "height": 111
        },
        "outputId": "29c9bce4-98ae-4b65-babf-e3c4a693c5ae"
      },
      "source": [
        "# Return jsut the Admitting Dx and the 1st Diagnosis\n",
        "diagDF[diagDF['DF1_Family'] == 'Sepsis'][['DA1_Family','DF1_Family',]]"
      ],
      "execution_count": 188,
      "outputs": [
        {
          "output_type": "execute_result",
          "data": {
            "text/html": [
              "<div>\n",
              "<style scoped>\n",
              "    .dataframe tbody tr th:only-of-type {\n",
              "        vertical-align: middle;\n",
              "    }\n",
              "\n",
              "    .dataframe tbody tr th {\n",
              "        vertical-align: top;\n",
              "    }\n",
              "\n",
              "    .dataframe thead th {\n",
              "        text-align: right;\n",
              "    }\n",
              "</style>\n",
              "<table border=\"1\" class=\"dataframe\">\n",
              "  <thead>\n",
              "    <tr style=\"text-align: right;\">\n",
              "      <th></th>\n",
              "      <th>DA1_Family</th>\n",
              "      <th>DF1_Family</th>\n",
              "    </tr>\n",
              "  </thead>\n",
              "  <tbody>\n",
              "    <tr>\n",
              "      <th>1</th>\n",
              "      <td>Asthma</td>\n",
              "      <td>Sepsis</td>\n",
              "    </tr>\n",
              "    <tr>\n",
              "      <th>6</th>\n",
              "      <td>Sepsis</td>\n",
              "      <td>Sepsis</td>\n",
              "    </tr>\n",
              "  </tbody>\n",
              "</table>\n",
              "</div>"
            ],
            "text/plain": [
              "  DA1_Family DF1_Family\n",
              "1     Asthma     Sepsis\n",
              "6     Sepsis     Sepsis"
            ]
          },
          "metadata": {
            "tags": []
          },
          "execution_count": 188
        }
      ]
    },
    {
      "cell_type": "code",
      "metadata": {
        "id": "8poE0smVyxwg",
        "colab_type": "code",
        "colab": {
          "base_uri": "https://localhost:8080/",
          "height": 51
        },
        "outputId": "36082fc9-6b8d-4c5f-8135-0ef915a941c7"
      },
      "source": [
        "# Add the attribute .values to the end and it becomes a simple 2D array\n",
        "diagDF[diagDF['DF1_Family'] == 'Sepsis'][['DA1_Family','DF1_Family',]].values"
      ],
      "execution_count": 189,
      "outputs": [
        {
          "output_type": "execute_result",
          "data": {
            "text/plain": [
              "array([['Asthma', 'Sepsis'],\n",
              "       ['Sepsis', 'Sepsis']], dtype=object)"
            ]
          },
          "metadata": {
            "tags": []
          },
          "execution_count": 189
        }
      ]
    },
    {
      "cell_type": "code",
      "metadata": {
        "id": "gn9kqimczFzw",
        "colab_type": "code",
        "colab": {
          "base_uri": "https://localhost:8080/",
          "height": 34
        },
        "outputId": "7be18c81-9b66-4815-f7d9-85bcdc630de4"
      },
      "source": [
        "for i in diagDF[diagDF['DF1_Family'] == 'Sepsis'][['DA1_Family','DF1_Family',]].values:\n",
        "  if 'Asthma' in i:\n",
        "    print(i)"
      ],
      "execution_count": 192,
      "outputs": [
        {
          "output_type": "stream",
          "text": [
            "['Asthma' 'Sepsis']\n"
          ],
          "name": "stdout"
        }
      ]
    },
    {
      "cell_type": "code",
      "metadata": {
        "id": "Cp40dYYSziqy",
        "colab_type": "code",
        "colab": {}
      },
      "source": [
        ""
      ],
      "execution_count": 0,
      "outputs": []
    }
  ]
}